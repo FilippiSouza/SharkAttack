{
 "cells": [
  {
   "cell_type": "markdown",
   "id": "still-modem",
   "metadata": {},
   "source": [
    "# GLOBAL SHARK ATTACK - Database Cleaning and Visualization\n",
    "#### SOURCE : https://www.kaggle.com/teajay/global-shark-attacks"
   ]
  },
  {
   "cell_type": "markdown",
   "id": "departmental-ordinance",
   "metadata": {},
   "source": [
    "## Objective\n",
    "\n",
    "This notebook aims to demonstrate a way to clean and visuzalize the distribution and patterns of the most relevant columns from the database provided\n",
    "\n"
   ]
  },
  {
   "cell_type": "markdown",
   "id": "tested-compromise",
   "metadata": {},
   "source": [
    "## Perguntas"
   ]
  },
  {
   "cell_type": "markdown",
   "id": "driving-avatar",
   "metadata": {},
   "source": [
    "## Premissas\n",
    "\n",
    "A register to be valid needs to be identifiable."
   ]
  },
  {
   "cell_type": "markdown",
   "id": "brief-plate",
   "metadata": {},
   "source": [
    "## Conclusão"
   ]
  },
  {
   "cell_type": "code",
   "execution_count": 2,
   "id": "athletic-enzyme",
   "metadata": {},
   "outputs": [],
   "source": [
    "import pandas as pd\n",
    "import re\n",
    "import os"
   ]
  },
  {
   "cell_type": "code",
   "execution_count": 3,
   "id": "known-restriction",
   "metadata": {},
   "outputs": [],
   "source": [
    "df = pd.read_csv('attacks.csv', encoding = 'latin-1')"
   ]
  },
  {
   "cell_type": "markdown",
   "id": "metallic-device",
   "metadata": {},
   "source": [
    "### First things first. Let´s take a look at what we have here:"
   ]
  },
  {
   "cell_type": "code",
   "execution_count": 4,
   "id": "south-bosnia",
   "metadata": {},
   "outputs": [
    {
     "data": {
      "text/plain": [
       "Index(['Case Number', 'Date', 'Year', 'Type', 'Country', 'Area', 'Location',\n",
       "       'Activity', 'Name', 'Sex ', 'Age', 'Injury', 'Fatal (Y/N)', 'Time',\n",
       "       'Species ', 'Investigator or Source', 'pdf', 'href formula', 'href',\n",
       "       'Case Number.1', 'Case Number.2', 'original order', 'Unnamed: 22',\n",
       "       'Unnamed: 23'],\n",
       "      dtype='object')"
      ]
     },
     "execution_count": 4,
     "metadata": {},
     "output_type": "execute_result"
    }
   ],
   "source": [
    "df.columns"
   ]
  },
  {
   "cell_type": "markdown",
   "id": "matched-temple",
   "metadata": {},
   "source": [
    "### In order to facilitate manipulation and avoid errors: "
   ]
  },
  {
   "cell_type": "code",
   "execution_count": 5,
   "id": "silent-judgment",
   "metadata": {},
   "outputs": [],
   "source": [
    "df.columns = [str(column)\n",
    "               .lower()\n",
    "               .replace(\"(Y/N)\", \"\")\n",
    "               .replace(\"Investigator or \", \"\")\n",
    "               .strip()\n",
    "               .replace(\" \", \"_\")          \n",
    "           for column in df.columns]"
   ]
  },
  {
   "cell_type": "code",
   "execution_count": 6,
   "id": "significant-recycling",
   "metadata": {},
   "outputs": [
    {
     "name": "stdout",
     "output_type": "stream",
     "text": [
      "<class 'pandas.core.frame.DataFrame'>\n",
      "RangeIndex: 25723 entries, 0 to 25722\n",
      "Data columns (total 24 columns):\n",
      " #   Column                  Non-Null Count  Dtype  \n",
      "---  ------                  --------------  -----  \n",
      " 0   case_number             8702 non-null   object \n",
      " 1   date                    6302 non-null   object \n",
      " 2   year                    6300 non-null   float64\n",
      " 3   type                    6298 non-null   object \n",
      " 4   country                 6252 non-null   object \n",
      " 5   area                    5847 non-null   object \n",
      " 6   location                5762 non-null   object \n",
      " 7   activity                5758 non-null   object \n",
      " 8   name                    6092 non-null   object \n",
      " 9   sex                     5737 non-null   object \n",
      " 10  age                     3471 non-null   object \n",
      " 11  injury                  6274 non-null   object \n",
      " 12  fatal_(y/n)             5763 non-null   object \n",
      " 13  time                    2948 non-null   object \n",
      " 14  species                 3464 non-null   object \n",
      " 15  investigator_or_source  6285 non-null   object \n",
      " 16  pdf                     6302 non-null   object \n",
      " 17  href_formula            6301 non-null   object \n",
      " 18  href                    6302 non-null   object \n",
      " 19  case_number.1           6302 non-null   object \n",
      " 20  case_number.2           6302 non-null   object \n",
      " 21  original_order          6309 non-null   float64\n",
      " 22  unnamed:_22             1 non-null      object \n",
      " 23  unnamed:_23             2 non-null      object \n",
      "dtypes: float64(2), object(22)\n",
      "memory usage: 2.6+ MB\n"
     ]
    }
   ],
   "source": [
    "df.info()"
   ]
  },
  {
   "cell_type": "markdown",
   "id": "cross-retrieval",
   "metadata": {},
   "source": [
    "### From the cell above is possible to notice: \n",
    "\n",
    "* Most of the columns contain __'object'__ data type, even for columns  like 'age' and 'date'. Which raises the hypothesis that the registers do not follow a pattern\n",
    "\n",
    "* The majority of registers are null. *(__25723__ entries x __8702__ 'case_number' non null registers)* \n",
    "\n",
    "* 'case_number' has considerably bigger number of non-null recording than the second larger column. __(8702 x 6309)__\n",
    "\n",
    "#### TO DO: \n",
    "\n",
    "* Exclude register that are entirely null  \n",
    "* Explore more the column 'case_number':"
   ]
  },
  {
   "cell_type": "code",
   "execution_count": 7,
   "id": "equivalent-vehicle",
   "metadata": {},
   "outputs": [],
   "source": [
    "df.dropna(how='all', inplace= True)"
   ]
  },
  {
   "cell_type": "code",
   "execution_count": 8,
   "id": "seeing-monkey",
   "metadata": {},
   "outputs": [
    {
     "data": {
      "text/plain": [
       "6287"
      ]
     },
     "execution_count": 8,
     "metadata": {},
     "output_type": "execute_result"
    }
   ],
   "source": [
    "df['case_number'].nunique()"
   ]
  },
  {
   "cell_type": "code",
   "execution_count": 9,
   "id": "indirect-pleasure",
   "metadata": {},
   "outputs": [
    {
     "data": {
      "text/plain": [
       "array(['2018.06.25', '2018.06.18', '2018.06.09', ..., 'ND.0001', '0',\n",
       "       'xx'], dtype=object)"
      ]
     },
     "execution_count": 9,
     "metadata": {},
     "output_type": "execute_result"
    }
   ],
   "source": [
    "df['case_number'].unique()"
   ]
  },
  {
   "cell_type": "code",
   "execution_count": 10,
   "id": "corresponding-shadow",
   "metadata": {},
   "outputs": [
    {
     "data": {
      "text/plain": [
       "case_number\n",
       "0               2400\n",
       "1980.07.00         2\n",
       "2006.09.02         2\n",
       "2005.04.06         2\n",
       "2009.12.18         2\n",
       "                ... \n",
       "1959.07.30         1\n",
       "1959.07.28         1\n",
       "1959.07.25.b       1\n",
       "1959.07.25.a       1\n",
       "xx                 1\n",
       "Name: case_number, Length: 6287, dtype: int64"
      ]
     },
     "execution_count": 10,
     "metadata": {},
     "output_type": "execute_result"
    }
   ],
   "source": [
    "ID = df.groupby('case_number')\n",
    "ID['case_number'].count().sort_values(ascending=False)"
   ]
  },
  {
   "cell_type": "markdown",
   "id": "literary-deputy",
   "metadata": {},
   "source": [
    "### We see:\n",
    "\n",
    "* There are several items on 'case_number' column that are duplicated\n",
    "\n",
    "* Lots of registers with \"0\".\n",
    "\n",
    "* Different patterns of input. Some of them are probably related to the date."
   ]
  },
  {
   "cell_type": "markdown",
   "id": "coupled-reaction",
   "metadata": {},
   "source": [
    "### Exploring 'case_number' == 0 :"
   ]
  },
  {
   "cell_type": "code",
   "execution_count": 11,
   "id": "regulated-probe",
   "metadata": {},
   "outputs": [
    {
     "data": {
      "text/html": [
       "<div>\n",
       "<style scoped>\n",
       "    .dataframe tbody tr th:only-of-type {\n",
       "        vertical-align: middle;\n",
       "    }\n",
       "\n",
       "    .dataframe tbody tr th {\n",
       "        vertical-align: top;\n",
       "    }\n",
       "\n",
       "    .dataframe thead th {\n",
       "        text-align: right;\n",
       "    }\n",
       "</style>\n",
       "<table border=\"1\" class=\"dataframe\">\n",
       "  <thead>\n",
       "    <tr style=\"text-align: right;\">\n",
       "      <th></th>\n",
       "      <th>case_number</th>\n",
       "      <th>date</th>\n",
       "      <th>year</th>\n",
       "      <th>type</th>\n",
       "      <th>country</th>\n",
       "      <th>area</th>\n",
       "      <th>location</th>\n",
       "      <th>activity</th>\n",
       "      <th>name</th>\n",
       "      <th>sex</th>\n",
       "      <th>...</th>\n",
       "      <th>species</th>\n",
       "      <th>investigator_or_source</th>\n",
       "      <th>pdf</th>\n",
       "      <th>href_formula</th>\n",
       "      <th>href</th>\n",
       "      <th>case_number.1</th>\n",
       "      <th>case_number.2</th>\n",
       "      <th>original_order</th>\n",
       "      <th>unnamed:_22</th>\n",
       "      <th>unnamed:_23</th>\n",
       "    </tr>\n",
       "  </thead>\n",
       "  <tbody>\n",
       "  </tbody>\n",
       "</table>\n",
       "<p>0 rows × 24 columns</p>\n",
       "</div>"
      ],
      "text/plain": [
       "Empty DataFrame\n",
       "Columns: [case_number, date, year, type, country, area, location, activity, name, sex, age, injury, fatal_(y/n), time, species, investigator_or_source, pdf, href_formula, href, case_number.1, case_number.2, original_order, unnamed:_22, unnamed:_23]\n",
       "Index: []\n",
       "\n",
       "[0 rows x 24 columns]"
      ]
     },
     "execution_count": 11,
     "metadata": {},
     "output_type": "execute_result"
    }
   ],
   "source": [
    "df[df['case_number']==0]"
   ]
  },
  {
   "cell_type": "code",
   "execution_count": 12,
   "id": "worse-hearing",
   "metadata": {},
   "outputs": [
    {
     "data": {
      "text/html": [
       "<div>\n",
       "<style scoped>\n",
       "    .dataframe tbody tr th:only-of-type {\n",
       "        vertical-align: middle;\n",
       "    }\n",
       "\n",
       "    .dataframe tbody tr th {\n",
       "        vertical-align: top;\n",
       "    }\n",
       "\n",
       "    .dataframe thead th {\n",
       "        text-align: right;\n",
       "    }\n",
       "</style>\n",
       "<table border=\"1\" class=\"dataframe\">\n",
       "  <thead>\n",
       "    <tr style=\"text-align: right;\">\n",
       "      <th></th>\n",
       "      <th>case_number</th>\n",
       "      <th>date</th>\n",
       "      <th>year</th>\n",
       "      <th>type</th>\n",
       "      <th>country</th>\n",
       "      <th>area</th>\n",
       "      <th>location</th>\n",
       "      <th>activity</th>\n",
       "      <th>name</th>\n",
       "      <th>sex</th>\n",
       "      <th>...</th>\n",
       "      <th>species</th>\n",
       "      <th>investigator_or_source</th>\n",
       "      <th>pdf</th>\n",
       "      <th>href_formula</th>\n",
       "      <th>href</th>\n",
       "      <th>case_number.1</th>\n",
       "      <th>case_number.2</th>\n",
       "      <th>original_order</th>\n",
       "      <th>unnamed:_22</th>\n",
       "      <th>unnamed:_23</th>\n",
       "    </tr>\n",
       "  </thead>\n",
       "  <tbody>\n",
       "    <tr>\n",
       "      <th>6302</th>\n",
       "      <td>0</td>\n",
       "      <td>NaN</td>\n",
       "      <td>NaN</td>\n",
       "      <td>NaN</td>\n",
       "      <td>NaN</td>\n",
       "      <td>NaN</td>\n",
       "      <td>NaN</td>\n",
       "      <td>NaN</td>\n",
       "      <td>NaN</td>\n",
       "      <td>NaN</td>\n",
       "      <td>...</td>\n",
       "      <td>NaN</td>\n",
       "      <td>NaN</td>\n",
       "      <td>NaN</td>\n",
       "      <td>NaN</td>\n",
       "      <td>NaN</td>\n",
       "      <td>NaN</td>\n",
       "      <td>NaN</td>\n",
       "      <td>6304.0</td>\n",
       "      <td>NaN</td>\n",
       "      <td>NaN</td>\n",
       "    </tr>\n",
       "    <tr>\n",
       "      <th>6303</th>\n",
       "      <td>0</td>\n",
       "      <td>NaN</td>\n",
       "      <td>NaN</td>\n",
       "      <td>NaN</td>\n",
       "      <td>NaN</td>\n",
       "      <td>NaN</td>\n",
       "      <td>NaN</td>\n",
       "      <td>NaN</td>\n",
       "      <td>NaN</td>\n",
       "      <td>NaN</td>\n",
       "      <td>...</td>\n",
       "      <td>NaN</td>\n",
       "      <td>NaN</td>\n",
       "      <td>NaN</td>\n",
       "      <td>NaN</td>\n",
       "      <td>NaN</td>\n",
       "      <td>NaN</td>\n",
       "      <td>NaN</td>\n",
       "      <td>6305.0</td>\n",
       "      <td>NaN</td>\n",
       "      <td>NaN</td>\n",
       "    </tr>\n",
       "    <tr>\n",
       "      <th>6304</th>\n",
       "      <td>0</td>\n",
       "      <td>NaN</td>\n",
       "      <td>NaN</td>\n",
       "      <td>NaN</td>\n",
       "      <td>NaN</td>\n",
       "      <td>NaN</td>\n",
       "      <td>NaN</td>\n",
       "      <td>NaN</td>\n",
       "      <td>NaN</td>\n",
       "      <td>NaN</td>\n",
       "      <td>...</td>\n",
       "      <td>NaN</td>\n",
       "      <td>NaN</td>\n",
       "      <td>NaN</td>\n",
       "      <td>NaN</td>\n",
       "      <td>NaN</td>\n",
       "      <td>NaN</td>\n",
       "      <td>NaN</td>\n",
       "      <td>6306.0</td>\n",
       "      <td>NaN</td>\n",
       "      <td>NaN</td>\n",
       "    </tr>\n",
       "    <tr>\n",
       "      <th>6305</th>\n",
       "      <td>0</td>\n",
       "      <td>NaN</td>\n",
       "      <td>NaN</td>\n",
       "      <td>NaN</td>\n",
       "      <td>NaN</td>\n",
       "      <td>NaN</td>\n",
       "      <td>NaN</td>\n",
       "      <td>NaN</td>\n",
       "      <td>NaN</td>\n",
       "      <td>NaN</td>\n",
       "      <td>...</td>\n",
       "      <td>NaN</td>\n",
       "      <td>NaN</td>\n",
       "      <td>NaN</td>\n",
       "      <td>NaN</td>\n",
       "      <td>NaN</td>\n",
       "      <td>NaN</td>\n",
       "      <td>NaN</td>\n",
       "      <td>6307.0</td>\n",
       "      <td>NaN</td>\n",
       "      <td>NaN</td>\n",
       "    </tr>\n",
       "    <tr>\n",
       "      <th>6306</th>\n",
       "      <td>0</td>\n",
       "      <td>NaN</td>\n",
       "      <td>NaN</td>\n",
       "      <td>NaN</td>\n",
       "      <td>NaN</td>\n",
       "      <td>NaN</td>\n",
       "      <td>NaN</td>\n",
       "      <td>NaN</td>\n",
       "      <td>NaN</td>\n",
       "      <td>NaN</td>\n",
       "      <td>...</td>\n",
       "      <td>NaN</td>\n",
       "      <td>NaN</td>\n",
       "      <td>NaN</td>\n",
       "      <td>NaN</td>\n",
       "      <td>NaN</td>\n",
       "      <td>NaN</td>\n",
       "      <td>NaN</td>\n",
       "      <td>6308.0</td>\n",
       "      <td>NaN</td>\n",
       "      <td>NaN</td>\n",
       "    </tr>\n",
       "  </tbody>\n",
       "</table>\n",
       "<p>5 rows × 24 columns</p>\n",
       "</div>"
      ],
      "text/plain": [
       "     case_number date  year type country area location activity name  sex  \\\n",
       "6302           0  NaN   NaN  NaN     NaN  NaN      NaN      NaN  NaN  NaN   \n",
       "6303           0  NaN   NaN  NaN     NaN  NaN      NaN      NaN  NaN  NaN   \n",
       "6304           0  NaN   NaN  NaN     NaN  NaN      NaN      NaN  NaN  NaN   \n",
       "6305           0  NaN   NaN  NaN     NaN  NaN      NaN      NaN  NaN  NaN   \n",
       "6306           0  NaN   NaN  NaN     NaN  NaN      NaN      NaN  NaN  NaN   \n",
       "\n",
       "      ... species investigator_or_source  pdf href_formula href case_number.1  \\\n",
       "6302  ...     NaN                    NaN  NaN          NaN  NaN           NaN   \n",
       "6303  ...     NaN                    NaN  NaN          NaN  NaN           NaN   \n",
       "6304  ...     NaN                    NaN  NaN          NaN  NaN           NaN   \n",
       "6305  ...     NaN                    NaN  NaN          NaN  NaN           NaN   \n",
       "6306  ...     NaN                    NaN  NaN          NaN  NaN           NaN   \n",
       "\n",
       "     case_number.2 original_order unnamed:_22 unnamed:_23  \n",
       "6302           NaN         6304.0         NaN         NaN  \n",
       "6303           NaN         6305.0         NaN         NaN  \n",
       "6304           NaN         6306.0         NaN         NaN  \n",
       "6305           NaN         6307.0         NaN         NaN  \n",
       "6306           NaN         6308.0         NaN         NaN  \n",
       "\n",
       "[5 rows x 24 columns]"
      ]
     },
     "execution_count": 12,
     "metadata": {},
     "output_type": "execute_result"
    }
   ],
   "source": [
    "# value 0 is a string\n",
    "df[df['case_number']=='0'].head()"
   ]
  },
  {
   "cell_type": "code",
   "execution_count": 13,
   "id": "described-family",
   "metadata": {},
   "outputs": [
    {
     "data": {
      "text/plain": [
       "case_number               2400\n",
       "date                         0\n",
       "year                         0\n",
       "type                         0\n",
       "country                      0\n",
       "area                         0\n",
       "location                     0\n",
       "activity                     0\n",
       "name                         0\n",
       "sex                          0\n",
       "age                          0\n",
       "injury                       0\n",
       "fatal_(y/n)                  0\n",
       "time                         0\n",
       "species                      0\n",
       "investigator_or_source       0\n",
       "pdf                          0\n",
       "href_formula                 0\n",
       "href                         0\n",
       "case_number.1                0\n",
       "case_number.2                0\n",
       "original_order               7\n",
       "unnamed:_22                  0\n",
       "unnamed:_23                  0\n",
       "dtype: int64"
      ]
     },
     "execution_count": 13,
     "metadata": {},
     "output_type": "execute_result"
    }
   ],
   "source": [
    "# checking out other columns\n",
    "df[df['case_number']=='0'].count()"
   ]
  },
  {
   "cell_type": "markdown",
   "id": "exciting-producer",
   "metadata": {},
   "source": [
    "### As we can see, for case_number == 0 :\n",
    "\n",
    "* There are not enough field filled to identify a occurence. So those registers will be deleted"
   ]
  },
  {
   "cell_type": "code",
   "execution_count": 14,
   "id": "framed-pierre",
   "metadata": {},
   "outputs": [],
   "source": [
    "invalid = df['case_number'] == \"0\"\n",
    "df.drop(df.loc[invalid].index, inplace = True)"
   ]
  },
  {
   "cell_type": "markdown",
   "id": "peripheral-switch",
   "metadata": {},
   "source": [
    "### Then we have:"
   ]
  },
  {
   "cell_type": "code",
   "execution_count": 15,
   "id": "prerequisite-tomorrow",
   "metadata": {},
   "outputs": [
    {
     "data": {
      "text/plain": [
       "(6303, 24)"
      ]
     },
     "execution_count": 15,
     "metadata": {},
     "output_type": "execute_result"
    }
   ],
   "source": [
    "df.shape"
   ]
  },
  {
   "cell_type": "code",
   "execution_count": 16,
   "id": "known-launch",
   "metadata": {},
   "outputs": [
    {
     "data": {
      "text/plain": [
       "6286"
      ]
     },
     "execution_count": 16,
     "metadata": {},
     "output_type": "execute_result"
    }
   ],
   "source": [
    "unicos = df['case_number'].nunique()\n",
    "unicos"
   ]
  },
  {
   "cell_type": "code",
   "execution_count": 17,
   "id": "rising-exemption",
   "metadata": {},
   "outputs": [
    {
     "data": {
      "text/plain": [
       "16"
      ]
     },
     "execution_count": 17,
     "metadata": {},
     "output_type": "execute_result"
    }
   ],
   "source": [
    "duplicados = df[df.duplicated(subset='case_number')]['case_number'].count()\n",
    "duplicados"
   ]
  },
  {
   "cell_type": "code",
   "execution_count": 18,
   "id": "handmade-migration",
   "metadata": {},
   "outputs": [
    {
     "data": {
      "text/plain": [
       "-1"
      ]
     },
     "execution_count": 18,
     "metadata": {},
     "output_type": "execute_result"
    }
   ],
   "source": [
    "unicos + duplicados -  len(df)"
   ]
  },
  {
   "cell_type": "markdown",
   "id": "absolute-retailer",
   "metadata": {},
   "source": [
    "### There is probably a null value for 'case_number'\n",
    "___unique values + duplicated - total = -1___"
   ]
  },
  {
   "cell_type": "code",
   "execution_count": 19,
   "id": "graphic-worker",
   "metadata": {},
   "outputs": [
    {
     "data": {
      "text/html": [
       "<div>\n",
       "<style scoped>\n",
       "    .dataframe tbody tr th:only-of-type {\n",
       "        vertical-align: middle;\n",
       "    }\n",
       "\n",
       "    .dataframe tbody tr th {\n",
       "        vertical-align: top;\n",
       "    }\n",
       "\n",
       "    .dataframe thead th {\n",
       "        text-align: right;\n",
       "    }\n",
       "</style>\n",
       "<table border=\"1\" class=\"dataframe\">\n",
       "  <thead>\n",
       "    <tr style=\"text-align: right;\">\n",
       "      <th></th>\n",
       "      <th>case_number</th>\n",
       "      <th>date</th>\n",
       "      <th>year</th>\n",
       "      <th>type</th>\n",
       "      <th>country</th>\n",
       "      <th>area</th>\n",
       "      <th>location</th>\n",
       "      <th>activity</th>\n",
       "      <th>name</th>\n",
       "      <th>sex</th>\n",
       "      <th>...</th>\n",
       "      <th>species</th>\n",
       "      <th>investigator_or_source</th>\n",
       "      <th>pdf</th>\n",
       "      <th>href_formula</th>\n",
       "      <th>href</th>\n",
       "      <th>case_number.1</th>\n",
       "      <th>case_number.2</th>\n",
       "      <th>original_order</th>\n",
       "      <th>unnamed:_22</th>\n",
       "      <th>unnamed:_23</th>\n",
       "    </tr>\n",
       "  </thead>\n",
       "  <tbody>\n",
       "    <tr>\n",
       "      <th>5488</th>\n",
       "      <td>NaN</td>\n",
       "      <td>Reported 06-Sep-1905</td>\n",
       "      <td>1905.0</td>\n",
       "      <td>Provoked</td>\n",
       "      <td>USA</td>\n",
       "      <td>Florida</td>\n",
       "      <td>Fort Pierce, St Lucie County</td>\n",
       "      <td>Fishing</td>\n",
       "      <td>David Curry</td>\n",
       "      <td>M</td>\n",
       "      <td>...</td>\n",
       "      <td>NaN</td>\n",
       "      <td>Muncie Evening Press, 8/6/1913</td>\n",
       "      <td>1905.09.06.R-Curry.pdf</td>\n",
       "      <td>http://sharkattackfile.net/spreadsheets/pdf_di...</td>\n",
       "      <td>http://sharkattackfile.net/spreadsheets/pdf_di...</td>\n",
       "      <td>1905.09.06.R</td>\n",
       "      <td>1905.09.06.R</td>\n",
       "      <td>815.0</td>\n",
       "      <td>NaN</td>\n",
       "      <td>NaN</td>\n",
       "    </tr>\n",
       "  </tbody>\n",
       "</table>\n",
       "<p>1 rows × 24 columns</p>\n",
       "</div>"
      ],
      "text/plain": [
       "     case_number                  date    year      type country     area  \\\n",
       "5488         NaN  Reported 06-Sep-1905  1905.0  Provoked     USA  Florida   \n",
       "\n",
       "                          location activity         name sex  ... species  \\\n",
       "5488  Fort Pierce, St Lucie County  Fishing  David Curry   M  ...     NaN   \n",
       "\n",
       "              investigator_or_source                     pdf  \\\n",
       "5488  Muncie Evening Press, 8/6/1913  1905.09.06.R-Curry.pdf   \n",
       "\n",
       "                                           href_formula  \\\n",
       "5488  http://sharkattackfile.net/spreadsheets/pdf_di...   \n",
       "\n",
       "                                                   href case_number.1  \\\n",
       "5488  http://sharkattackfile.net/spreadsheets/pdf_di...  1905.09.06.R   \n",
       "\n",
       "     case_number.2 original_order unnamed:_22 unnamed:_23  \n",
       "5488  1905.09.06.R          815.0         NaN         NaN  \n",
       "\n",
       "[1 rows x 24 columns]"
      ]
     },
     "execution_count": 19,
     "metadata": {},
     "output_type": "execute_result"
    }
   ],
   "source": [
    "df[df['case_number'].isnull()]"
   ]
  },
  {
   "cell_type": "markdown",
   "id": "absent-austin",
   "metadata": {},
   "source": [
    "### Indeed there is!\n",
    "From the previous analysis on 'case_numer' filling pattern, we will use the date formatted as 'YYYY.MM.DD' to fill this recording. But first, let´s check if it will not be duplicated."
   ]
  },
  {
   "cell_type": "code",
   "execution_count": 20,
   "id": "alternative-absolute",
   "metadata": {},
   "outputs": [
    {
     "data": {
      "text/html": [
       "<div>\n",
       "<style scoped>\n",
       "    .dataframe tbody tr th:only-of-type {\n",
       "        vertical-align: middle;\n",
       "    }\n",
       "\n",
       "    .dataframe tbody tr th {\n",
       "        vertical-align: top;\n",
       "    }\n",
       "\n",
       "    .dataframe thead th {\n",
       "        text-align: right;\n",
       "    }\n",
       "</style>\n",
       "<table border=\"1\" class=\"dataframe\">\n",
       "  <thead>\n",
       "    <tr style=\"text-align: right;\">\n",
       "      <th></th>\n",
       "      <th>case_number</th>\n",
       "      <th>date</th>\n",
       "      <th>year</th>\n",
       "      <th>type</th>\n",
       "      <th>country</th>\n",
       "      <th>area</th>\n",
       "      <th>location</th>\n",
       "      <th>activity</th>\n",
       "      <th>name</th>\n",
       "      <th>sex</th>\n",
       "      <th>...</th>\n",
       "      <th>species</th>\n",
       "      <th>investigator_or_source</th>\n",
       "      <th>pdf</th>\n",
       "      <th>href_formula</th>\n",
       "      <th>href</th>\n",
       "      <th>case_number.1</th>\n",
       "      <th>case_number.2</th>\n",
       "      <th>original_order</th>\n",
       "      <th>unnamed:_22</th>\n",
       "      <th>unnamed:_23</th>\n",
       "    </tr>\n",
       "  </thead>\n",
       "  <tbody>\n",
       "  </tbody>\n",
       "</table>\n",
       "<p>0 rows × 24 columns</p>\n",
       "</div>"
      ],
      "text/plain": [
       "Empty DataFrame\n",
       "Columns: [case_number, date, year, type, country, area, location, activity, name, sex, age, injury, fatal_(y/n), time, species, investigator_or_source, pdf, href_formula, href, case_number.1, case_number.2, original_order, unnamed:_22, unnamed:_23]\n",
       "Index: []\n",
       "\n",
       "[0 rows x 24 columns]"
      ]
     },
     "execution_count": 20,
     "metadata": {},
     "output_type": "execute_result"
    }
   ],
   "source": [
    "df[df['case_number'] == '1905.09.06']"
   ]
  },
  {
   "cell_type": "code",
   "execution_count": 21,
   "id": "weird-shannon",
   "metadata": {},
   "outputs": [
    {
     "data": {
      "text/plain": [
       "Int64Index([5488], dtype='int64')"
      ]
     },
     "execution_count": 21,
     "metadata": {},
     "output_type": "execute_result"
    }
   ],
   "source": [
    "to_update = df[df['case_number'].isnull()].index\n",
    "to_update"
   ]
  },
  {
   "cell_type": "code",
   "execution_count": 22,
   "id": "trying-tobacco",
   "metadata": {},
   "outputs": [],
   "source": [
    "df.loc[to_update, 'case_number'] = '1905.09.06'"
   ]
  },
  {
   "cell_type": "code",
   "execution_count": 23,
   "id": "authentic-hygiene",
   "metadata": {},
   "outputs": [
    {
     "data": {
      "text/html": [
       "<div>\n",
       "<style scoped>\n",
       "    .dataframe tbody tr th:only-of-type {\n",
       "        vertical-align: middle;\n",
       "    }\n",
       "\n",
       "    .dataframe tbody tr th {\n",
       "        vertical-align: top;\n",
       "    }\n",
       "\n",
       "    .dataframe thead th {\n",
       "        text-align: right;\n",
       "    }\n",
       "</style>\n",
       "<table border=\"1\" class=\"dataframe\">\n",
       "  <thead>\n",
       "    <tr style=\"text-align: right;\">\n",
       "      <th></th>\n",
       "      <th>case_number</th>\n",
       "      <th>date</th>\n",
       "      <th>year</th>\n",
       "      <th>type</th>\n",
       "      <th>country</th>\n",
       "      <th>area</th>\n",
       "      <th>location</th>\n",
       "      <th>activity</th>\n",
       "      <th>name</th>\n",
       "      <th>sex</th>\n",
       "      <th>...</th>\n",
       "      <th>species</th>\n",
       "      <th>investigator_or_source</th>\n",
       "      <th>pdf</th>\n",
       "      <th>href_formula</th>\n",
       "      <th>href</th>\n",
       "      <th>case_number.1</th>\n",
       "      <th>case_number.2</th>\n",
       "      <th>original_order</th>\n",
       "      <th>unnamed:_22</th>\n",
       "      <th>unnamed:_23</th>\n",
       "    </tr>\n",
       "  </thead>\n",
       "  <tbody>\n",
       "    <tr>\n",
       "      <th>5488</th>\n",
       "      <td>1905.09.06</td>\n",
       "      <td>Reported 06-Sep-1905</td>\n",
       "      <td>1905.0</td>\n",
       "      <td>Provoked</td>\n",
       "      <td>USA</td>\n",
       "      <td>Florida</td>\n",
       "      <td>Fort Pierce, St Lucie County</td>\n",
       "      <td>Fishing</td>\n",
       "      <td>David Curry</td>\n",
       "      <td>M</td>\n",
       "      <td>...</td>\n",
       "      <td>NaN</td>\n",
       "      <td>Muncie Evening Press, 8/6/1913</td>\n",
       "      <td>1905.09.06.R-Curry.pdf</td>\n",
       "      <td>http://sharkattackfile.net/spreadsheets/pdf_di...</td>\n",
       "      <td>http://sharkattackfile.net/spreadsheets/pdf_di...</td>\n",
       "      <td>1905.09.06.R</td>\n",
       "      <td>1905.09.06.R</td>\n",
       "      <td>815.0</td>\n",
       "      <td>NaN</td>\n",
       "      <td>NaN</td>\n",
       "    </tr>\n",
       "  </tbody>\n",
       "</table>\n",
       "<p>1 rows × 24 columns</p>\n",
       "</div>"
      ],
      "text/plain": [
       "     case_number                  date    year      type country     area  \\\n",
       "5488  1905.09.06  Reported 06-Sep-1905  1905.0  Provoked     USA  Florida   \n",
       "\n",
       "                          location activity         name sex  ... species  \\\n",
       "5488  Fort Pierce, St Lucie County  Fishing  David Curry   M  ...     NaN   \n",
       "\n",
       "              investigator_or_source                     pdf  \\\n",
       "5488  Muncie Evening Press, 8/6/1913  1905.09.06.R-Curry.pdf   \n",
       "\n",
       "                                           href_formula  \\\n",
       "5488  http://sharkattackfile.net/spreadsheets/pdf_di...   \n",
       "\n",
       "                                                   href case_number.1  \\\n",
       "5488  http://sharkattackfile.net/spreadsheets/pdf_di...  1905.09.06.R   \n",
       "\n",
       "     case_number.2 original_order unnamed:_22 unnamed:_23  \n",
       "5488  1905.09.06.R          815.0         NaN         NaN  \n",
       "\n",
       "[1 rows x 24 columns]"
      ]
     },
     "execution_count": 23,
     "metadata": {},
     "output_type": "execute_result"
    }
   ],
   "source": [
    "df[df['case_number']=='1905.09.06']"
   ]
  },
  {
   "cell_type": "markdown",
   "id": "pursuant-strategy",
   "metadata": {},
   "source": [
    "### Now it is perfect!!!\n",
    "\n",
    "* We can see below that the unique and duplicated values are all the registers there is on 'case_number'"
   ]
  },
  {
   "cell_type": "code",
   "execution_count": 24,
   "id": "filled-classification",
   "metadata": {},
   "outputs": [
    {
     "data": {
      "text/plain": [
       "0"
      ]
     },
     "execution_count": 24,
     "metadata": {},
     "output_type": "execute_result"
    }
   ],
   "source": [
    "df['case_number'].nunique() + \\\n",
    "df[df.duplicated(subset='case_number')]['case_number'].count() - \\\n",
    "len(df)"
   ]
  },
  {
   "cell_type": "markdown",
   "id": "legal-privacy",
   "metadata": {},
   "source": [
    "### But, we still have to deal with the duplicated cases and find a logic to exclude or adjust.\n",
    "### Lets take a better look at these cases:\n",
    "* First, it is worthwhile to check if there are cases in wich all the columns have the same value:"
   ]
  },
  {
   "cell_type": "code",
   "execution_count": 25,
   "id": "egyptian-skating",
   "metadata": {},
   "outputs": [
    {
     "data": {
      "text/plain": [
       "0"
      ]
     },
     "execution_count": 25,
     "metadata": {},
     "output_type": "execute_result"
    }
   ],
   "source": [
    "df.duplicated().sum()"
   ]
  },
  {
   "cell_type": "code",
   "execution_count": 26,
   "id": "utility-print",
   "metadata": {},
   "outputs": [
    {
     "data": {
      "text/plain": [
       "original_order            32\n",
       "href                      30\n",
       "href_formula              30\n",
       "pdf                       30\n",
       "injury                    27\n",
       "investigator_or_source    27\n",
       "location                  26\n",
       "name                      23\n",
       "date                      19\n",
       "year                      17\n",
       "case_number               16\n",
       "case_number.1             16\n",
       "case_number.2             16\n",
       "area                      16\n",
       "species                   14\n",
       "activity                  14\n",
       "age                       13\n",
       "time                      11\n",
       "country                   11\n",
       "type                       3\n",
       "fatal_(y/n)                2\n",
       "sex                        2\n",
       "unnamed:_22                0\n",
       "unnamed:_23                0\n",
       "dtype: int64"
      ]
     },
     "execution_count": 26,
     "metadata": {},
     "output_type": "execute_result"
    }
   ],
   "source": [
    "duplicated = df[df.duplicated(subset='case_number', keep = False)]\n",
    "\n",
    "duplicated.nunique().sort_values(ascending=False)"
   ]
  },
  {
   "cell_type": "markdown",
   "id": "recorded-duration",
   "metadata": {},
   "source": [
    "### The data above demonstrates that differences are multiple. \n",
    "### From a more detailed analysis it was noticed that the same attack might:\n",
    "* have been reported by differents sources\n",
    "* have different registers for different people involved\n",
    "\n",
    "Given the circumstances, it will be considered that a unique register have a unique combination of:\n",
    "\n",
    "* **case_number**\n",
    "* __location__\n",
    "* __name__\n",
    "\n",
    "So, the the registers that are unique will be mantain and have its case_number adjusted. The duplicated will be deleted"
   ]
  },
  {
   "cell_type": "code",
   "execution_count": 27,
   "id": "moving-distribution",
   "metadata": {},
   "outputs": [],
   "source": [
    "exclude_duplicated = df[df.duplicated(subset=['case_number', 'location', 'name'])].index\n",
    "\n",
    "df.drop(exclude_duplicated, inplace = True)"
   ]
  },
  {
   "cell_type": "code",
   "execution_count": 28,
   "id": "suffering-sucking",
   "metadata": {},
   "outputs": [
    {
     "data": {
      "text/plain": [
       "6301"
      ]
     },
     "execution_count": 28,
     "metadata": {},
     "output_type": "execute_result"
    }
   ],
   "source": [
    "# just 2 recordings exlcuded :(\n",
    "len(df)"
   ]
  },
  {
   "cell_type": "code",
   "execution_count": 29,
   "id": "biblical-decimal",
   "metadata": {},
   "outputs": [],
   "source": [
    "# The others rows will be maintained, following the stablished criteria\n",
    "rename_duplicated = df[df.duplicated(subset=['case_number'])].index"
   ]
  },
  {
   "cell_type": "code",
   "execution_count": 30,
   "id": "strong-caution",
   "metadata": {},
   "outputs": [],
   "source": [
    "# Adjusting \"case_number\" for duplicated cases\n",
    "df.loc[rename_duplicated, 'case_number'] = df.loc[rename_duplicated, 'case_number'].apply(lambda x: x+'D')"
   ]
  },
  {
   "cell_type": "markdown",
   "id": "saved-relations",
   "metadata": {},
   "source": [
    "# Let the game begin!\n",
    "### The most relevant registers were selected\n",
    "Now, the efforts will be in order to **standarize** and **classify** the entries of a same column\\\n",
    "This way wil be possible to use different segmentations and obtain insights from this bunch of words"
   ]
  },
  {
   "cell_type": "code",
   "execution_count": 31,
   "id": "broken-turner",
   "metadata": {},
   "outputs": [
    {
     "data": {
      "text/plain": [
       "case_number               6301\n",
       "original_order            6299\n",
       "pdf                       6291\n",
       "href_formula              6290\n",
       "case_number.2             6286\n",
       "case_number.1             6285\n",
       "href                      6285\n",
       "date                      5433\n",
       "name                      5230\n",
       "investigator_or_source    4969\n",
       "location                  4108\n",
       "injury                    3736\n",
       "species                   1549\n",
       "activity                  1532\n",
       "area                       825\n",
       "time                       366\n",
       "year                       249\n",
       "country                    212\n",
       "age                        157\n",
       "fatal_(y/n)                  8\n",
       "type                         8\n",
       "sex                          6\n",
       "unnamed:_23                  2\n",
       "unnamed:_22                  1\n",
       "dtype: int64"
      ]
     },
     "execution_count": 31,
     "metadata": {},
     "output_type": "execute_result"
    }
   ],
   "source": [
    "df.nunique().sort_values(ascending = False)"
   ]
  },
  {
   "cell_type": "markdown",
   "id": "appointed-marketplace",
   "metadata": {},
   "source": [
    "### As mentioned before, it looks like most of the columns do not have a filling pattern\n",
    "Some of them might offer more value information to than others.\n",
    "### So this work intends to standarize:\n",
    "\n",
    "* ___activity___\n",
    "* ___injury___\n",
    "* ___country___\n",
    "* ___species___\n",
    "* ___date___\n",
    "* ___time___\n",
    "* ___sex___\n",
    "* ___area___"
   ]
  },
  {
   "cell_type": "markdown",
   "id": "wired-metallic",
   "metadata": {},
   "source": [
    "### Let´s start by de column  ___'activity'___ "
   ]
  },
  {
   "cell_type": "code",
   "execution_count": 32,
   "id": "arctic-stretch",
   "metadata": {},
   "outputs": [
    {
     "data": {
      "text/plain": [
       "Surfing                                     971\n",
       "Swimming                                    869\n",
       "Fishing                                     430\n",
       "Spearfishing                                333\n",
       "Bathing                                     162\n",
       "                                           ... \n",
       "Swimming / floating                           1\n",
       "Fishing from prawn trawler                    1\n",
       "Fishing from market fishboat Sea Spray        1\n",
       "Attempting to net shark in shark channel      1\n",
       "Lying prone in 2' of water                    1\n",
       "Name: activity, Length: 1532, dtype: int64"
      ]
     },
     "execution_count": 32,
     "metadata": {},
     "output_type": "execute_result"
    }
   ],
   "source": [
    "df['activity'].value_counts()"
   ]
  },
  {
   "cell_type": "markdown",
   "id": "greenhouse-crawford",
   "metadata": {},
   "source": [
    "### From the cell above:\n",
    "\n",
    "* There is a relevant number of standarized classifications. These classification are verbs wich end with the pattern \"ing\"\n",
    "* The activities with just one occurence are phrases, so isolte the verb of the phrase may be a good option"
   ]
  },
  {
   "cell_type": "code",
   "execution_count": 33,
   "id": "smart-tourism",
   "metadata": {},
   "outputs": [],
   "source": [
    "def cat(campo):\n",
    "    campo = str(campo).lower()\n",
    "    campo = campo.split(\" \")\n",
    "    campo = [re.sub('\\W', \"\", word) for word in campo]\n",
    "    for word in campo:\n",
    "        if re.search('ing', word) != None:\n",
    "            return word\n",
    "        else:\n",
    "            return 'unknow'"
   ]
  },
  {
   "cell_type": "code",
   "execution_count": 34,
   "id": "still-columbia",
   "metadata": {},
   "outputs": [],
   "source": [
    "df['act_cat'] = df['activity'].apply(cat)"
   ]
  },
  {
   "cell_type": "code",
   "execution_count": 35,
   "id": "technical-example",
   "metadata": {},
   "outputs": [
    {
     "data": {
      "text/plain": [
       "painting           1\n",
       "restraining        1\n",
       "lashing            1\n",
       "crawling           1\n",
       "scurfing           1\n",
       "                ... \n",
       "spearfishing     406\n",
       "fishing          612\n",
       "surfing         1013\n",
       "swimming        1072\n",
       "unknow          1718\n",
       "Name: act_cat, Length: 173, dtype: int64"
      ]
     },
     "execution_count": 35,
     "metadata": {},
     "output_type": "execute_result"
    }
   ],
   "source": [
    "df['act_cat'].value_counts().sort_values()"
   ]
  },
  {
   "cell_type": "markdown",
   "id": "threaded-portugal",
   "metadata": {},
   "source": [
    "### It looks good enough!!! \n",
    "* For cases in wich the verb does not describe much, there will be the column 'activity' for more details\n",
    "\n",
    "### Let´s take a look at ___'injury'___"
   ]
  },
  {
   "cell_type": "code",
   "execution_count": 36,
   "id": "moderate-costume",
   "metadata": {},
   "outputs": [
    {
     "data": {
      "text/plain": [
       "FATAL                                                                   802\n",
       "Survived                                                                 97\n",
       "Foot bitten                                                              87\n",
       "No injury                                                                82\n",
       "Leg bitten                                                               72\n",
       "                                                                       ... \n",
       "Single laceration on ankle & board bitten                                 1\n",
       "Thighs bitten, right hand lacerated                                       1\n",
       "Right arm & right leg bitten                                              1\n",
       "No injury, minor damage to wetsuit                                        1\n",
       "No injury; 2 m shark made threat display and impaled itself on spear      1\n",
       "Name: injury, Length: 3736, dtype: int64"
      ]
     },
     "execution_count": 36,
     "metadata": {},
     "output_type": "execute_result"
    }
   ],
   "source": [
    "df['injury'].value_counts()"
   ]
  },
  {
   "cell_type": "code",
   "execution_count": 37,
   "id": "civic-savannah",
   "metadata": {},
   "outputs": [
    {
     "data": {
      "text/plain": [
       "3736"
      ]
     },
     "execution_count": 37,
     "metadata": {},
     "output_type": "execute_result"
    }
   ],
   "source": [
    "len(df['injury'].value_counts())"
   ]
  },
  {
   "cell_type": "code",
   "execution_count": 38,
   "id": "confirmed-triumph",
   "metadata": {},
   "outputs": [
    {
     "data": {
      "text/plain": [
       "29"
      ]
     },
     "execution_count": 38,
     "metadata": {},
     "output_type": "execute_result"
    }
   ],
   "source": [
    "df['injury'].isnull().sum()"
   ]
  },
  {
   "cell_type": "code",
   "execution_count": 39,
   "id": "weekly-answer",
   "metadata": {},
   "outputs": [
    {
     "data": {
      "text/plain": [
       "3348"
      ]
     },
     "execution_count": 39,
     "metadata": {},
     "output_type": "execute_result"
    }
   ],
   "source": [
    "(df['injury'].value_counts()==1).sum()"
   ]
  },
  {
   "cell_type": "code",
   "execution_count": 40,
   "id": "growing-quantum",
   "metadata": {},
   "outputs": [
    {
     "data": {
      "text/plain": [
       "6301"
      ]
     },
     "execution_count": 40,
     "metadata": {},
     "output_type": "execute_result"
    }
   ],
   "source": [
    "len(df)"
   ]
  },
  {
   "cell_type": "markdown",
   "id": "dependent-custom",
   "metadata": {},
   "source": [
    "### Lots of unique values that needs to be standarized\n",
    "\n",
    "#### In order to complete that, let´s consider to be standard: \n",
    "\n",
    "* Registers with up to 4 words\n",
    "* Registers with more than 1 occurences"
   ]
  },
  {
   "cell_type": "code",
   "execution_count": 41,
   "id": "virgin-violence",
   "metadata": {},
   "outputs": [],
   "source": [
    "df[df['injury'].isnull()] = 'unknow'"
   ]
  },
  {
   "cell_type": "markdown",
   "id": "backed-mortgage",
   "metadata": {},
   "source": [
    "### Indentifying the keywords:"
   ]
  },
  {
   "cell_type": "code",
   "execution_count": 42,
   "id": "fantastic-forth",
   "metadata": {},
   "outputs": [],
   "source": [
    "# Transforming the registers in lists of words:\n",
    "std_injury = [register.split() for register in df['injury'] if register]\n",
    "\n",
    "# Bringing all the data to the one unique list and removing non word characters:\n",
    "std_injury = [re.sub('\\W', \"\", word).lower() for register in std_injury for word in register]\n",
    "\n",
    "# Making a dict with the number of occurences:\n",
    "std_injury = { word : std_injury.count(word) for word in set(std_injury) }\n",
    "\n",
    "# Removing words that do not say much:\n",
    "dispensable_words = [\"\", \"to\", \"and\", \"the\", \"in\", \"on\", \"shark\"]\n",
    "for word in dispensable_words:\n",
    "    std_injury.pop(word)"
   ]
  },
  {
   "cell_type": "markdown",
   "id": "perceived-muslim",
   "metadata": {},
   "source": [
    "### Creating a function to store the most relevant words based on frequency in other registers"
   ]
  },
  {
   "cell_type": "code",
   "execution_count": 43,
   "id": "magnetic-receipt",
   "metadata": {},
   "outputs": [],
   "source": [
    "def classify(campo):\n",
    "    campo = str(campo).lower()\n",
    "    campo = campo.split(\" \")\n",
    "    campo = [re.sub('\\W', \"\", word) for word in campo]\n",
    "    ranking = { word : std_injury[word] for word in campo if word in std_injury.keys()}\n",
    "    ranking = sorted(ranking.items(), key = lambda x : x[1], reverse = True)\n",
    "    ranking = ranking[:4]\n",
    "    ranking = [double[0] for double in ranking]\n",
    "    return ranking"
   ]
  },
  {
   "cell_type": "code",
   "execution_count": 44,
   "id": "australian-ethernet",
   "metadata": {},
   "outputs": [],
   "source": [
    "df['injury_kw'] = df['injury'].apply(classify)"
   ]
  },
  {
   "cell_type": "markdown",
   "id": "chronic-steering",
   "metadata": {},
   "source": [
    "### Does it make sense?"
   ]
  },
  {
   "cell_type": "code",
   "execution_count": 45,
   "id": "compound-chuck",
   "metadata": {},
   "outputs": [
    {
     "data": {
      "text/html": [
       "<div>\n",
       "<style scoped>\n",
       "    .dataframe tbody tr th:only-of-type {\n",
       "        vertical-align: middle;\n",
       "    }\n",
       "\n",
       "    .dataframe tbody tr th {\n",
       "        vertical-align: top;\n",
       "    }\n",
       "\n",
       "    .dataframe thead th {\n",
       "        text-align: right;\n",
       "    }\n",
       "</style>\n",
       "<table border=\"1\" class=\"dataframe\">\n",
       "  <thead>\n",
       "    <tr style=\"text-align: right;\">\n",
       "      <th></th>\n",
       "      <th>injury</th>\n",
       "      <th>injury_kw</th>\n",
       "    </tr>\n",
       "  </thead>\n",
       "  <tbody>\n",
       "    <tr>\n",
       "      <th>0</th>\n",
       "      <td>No injury to occupant, outrigger canoe and pad...</td>\n",
       "      <td>[injury, no, occupant, damaged]</td>\n",
       "    </tr>\n",
       "    <tr>\n",
       "      <th>1</th>\n",
       "      <td>Minor injury to left thigh</td>\n",
       "      <td>[injury, left, thigh, minor]</td>\n",
       "    </tr>\n",
       "    <tr>\n",
       "      <th>2</th>\n",
       "      <td>Injury to left lower leg from surfboard skeg</td>\n",
       "      <td>[injury, leg, left, lower]</td>\n",
       "    </tr>\n",
       "    <tr>\n",
       "      <th>3</th>\n",
       "      <td>Minor injury to lower leg</td>\n",
       "      <td>[injury, leg, minor, lower]</td>\n",
       "    </tr>\n",
       "    <tr>\n",
       "      <th>4</th>\n",
       "      <td>Lacerations to leg &amp; hand shark PROVOKED INCIDENT</td>\n",
       "      <td>[leg, lacerations, provoked, incident]</td>\n",
       "    </tr>\n",
       "  </tbody>\n",
       "</table>\n",
       "</div>"
      ],
      "text/plain": [
       "                                              injury  \\\n",
       "0  No injury to occupant, outrigger canoe and pad...   \n",
       "1                         Minor injury to left thigh   \n",
       "2       Injury to left lower leg from surfboard skeg   \n",
       "3                          Minor injury to lower leg   \n",
       "4  Lacerations to leg & hand shark PROVOKED INCIDENT   \n",
       "\n",
       "                                injury_kw  \n",
       "0         [injury, no, occupant, damaged]  \n",
       "1            [injury, left, thigh, minor]  \n",
       "2              [injury, leg, left, lower]  \n",
       "3             [injury, leg, minor, lower]  \n",
       "4  [leg, lacerations, provoked, incident]  "
      ]
     },
     "execution_count": 45,
     "metadata": {},
     "output_type": "execute_result"
    }
   ],
   "source": [
    "df[['injury', 'injury_kw' ]].head()"
   ]
  },
  {
   "cell_type": "markdown",
   "id": "governmental-clone",
   "metadata": {},
   "source": [
    "### It seems that the combining words \"no\" & \"injury\" might be a good replace for longer statements "
   ]
  },
  {
   "cell_type": "code",
   "execution_count": 46,
   "id": "hindu-auckland",
   "metadata": {},
   "outputs": [
    {
     "data": {
      "text/plain": [
       "804"
      ]
     },
     "execution_count": 46,
     "metadata": {},
     "output_type": "execute_result"
    }
   ],
   "source": [
    "df['injury_kw'].apply(lambda x : ('no' in x) & ('injury' in x)).sum()"
   ]
  },
  {
   "cell_type": "code",
   "execution_count": 47,
   "id": "ranking-protocol",
   "metadata": {},
   "outputs": [
    {
     "data": {
      "text/plain": [
       "202"
      ]
     },
     "execution_count": 47,
     "metadata": {},
     "output_type": "execute_result"
    }
   ],
   "source": [
    "df['injury'].apply(lambda x : ('no' in x) & ('injury' in x)).sum()"
   ]
  },
  {
   "cell_type": "code",
   "execution_count": 48,
   "id": "foster-prescription",
   "metadata": {},
   "outputs": [],
   "source": [
    "# Storing the detailed data for safety \n",
    "df['injury_details'] = df['injury'] "
   ]
  },
  {
   "cell_type": "code",
   "execution_count": 49,
   "id": "stopped-scanning",
   "metadata": {},
   "outputs": [
    {
     "data": {
      "text/plain": [
       "no injury                                           804\n",
       "FATAL                                               802\n",
       "Survived                                             97\n",
       "Foot bitten                                          87\n",
       "Leg bitten                                           72\n",
       "                                                   ... \n",
       "Ankle and thigh bitten; shark made three strikes      1\n",
       "Lacerations to right forearm and hand                 1\n",
       "Puncture wounds on knee                               1\n",
       "Minor injury to left thigh                            1\n",
       "Left calf & heel bitten                               1\n",
       "Name: injury, Length: 3158, dtype: int64"
      ]
     },
     "execution_count": 49,
     "metadata": {},
     "output_type": "execute_result"
    }
   ],
   "source": [
    "replace_no_injury = df[df['injury_kw'].apply(lambda x : ('no' in x) & ('injury' in x))].index\n",
    "\n",
    "df.loc[list(replace_no_injury), 'injury'] = 'no injury'\n",
    "\n",
    "df['injury'].value_counts()"
   ]
  },
  {
   "cell_type": "markdown",
   "id": "regional-homeless",
   "metadata": {},
   "source": [
    "### Oops, forgot the firs step: Normalize what was already there"
   ]
  },
  {
   "cell_type": "code",
   "execution_count": 50,
   "id": "laughing-zimbabwe",
   "metadata": {},
   "outputs": [],
   "source": [
    "df['injury'] = df['injury'].apply(str.lower)"
   ]
  },
  {
   "cell_type": "code",
   "execution_count": 51,
   "id": "peaceful-nebraska",
   "metadata": {},
   "outputs": [
    {
     "data": {
      "text/plain": [
       "fatal                                                                                 804\n",
       "no injury                                                                             804\n",
       "survived                                                                               97\n",
       "foot bitten                                                                            87\n",
       "leg bitten                                                                             72\n",
       "                                                                                     ... \n",
       "bitten by netted shark provoked incident                                                1\n",
       "minor injuries to left leg and hand                                                     1\n",
       "speared shark bit gunwale of boat as it was being hauled onboard provoked incident      1\n",
       "shark that he speared bit his calf     provoked incident                                1\n",
       "left forearm bitten, surgically amputated                                               1\n",
       "Name: injury, Length: 3148, dtype: int64"
      ]
     },
     "execution_count": 51,
     "metadata": {},
     "output_type": "execute_result"
    }
   ],
   "source": [
    "df['injury'].value_counts()"
   ]
  },
  {
   "cell_type": "markdown",
   "id": "hindu-theta",
   "metadata": {},
   "source": [
    "## Now it is time for ___\"species\"___ column"
   ]
  },
  {
   "cell_type": "code",
   "execution_count": 52,
   "id": "wound-shade",
   "metadata": {},
   "outputs": [
    {
     "data": {
      "text/plain": [
       "White shark                                           162\n",
       "Shark involvement prior to death was not confirmed    105\n",
       "Invalid                                               102\n",
       "Shark involvement not confirmed                        87\n",
       "Tiger shark                                            73\n",
       "                                                     ... \n",
       "\"grey shark\"                                            1\n",
       "a small hammerhead shark                                1\n",
       "Nurse shark, 0.94 m to 1.2 m [3' to 4']                 1\n",
       "Tiger shark, 2m                                         1\n",
       "6' to 8' bull shark                                     1\n",
       "Name: species, Length: 1547, dtype: int64"
      ]
     },
     "execution_count": 52,
     "metadata": {},
     "output_type": "execute_result"
    }
   ],
   "source": [
    "df['species'].value_counts()"
   ]
  },
  {
   "cell_type": "code",
   "execution_count": 53,
   "id": "gorgeous-corruption",
   "metadata": {},
   "outputs": [
    {
     "data": {
      "text/plain": [
       "2820"
      ]
     },
     "execution_count": 53,
     "metadata": {},
     "output_type": "execute_result"
    }
   ],
   "source": [
    "no_species = df[df['species'].isnull()].index\n",
    "\n",
    "len(no_species)"
   ]
  },
  {
   "cell_type": "code",
   "execution_count": 54,
   "id": "freelance-container",
   "metadata": {},
   "outputs": [],
   "source": [
    "df.loc[list(no_species), 'species'] = 'unknow'"
   ]
  },
  {
   "cell_type": "code",
   "execution_count": 55,
   "id": "seventh-breast",
   "metadata": {},
   "outputs": [
    {
     "data": {
      "text/plain": [
       "0            White shark\n",
       "1                 unknow\n",
       "2                 unknow\n",
       "3              2 m shark\n",
       "4        Tiger shark, 3m\n",
       "              ...       \n",
       "6298              unknow\n",
       "6299              unknow\n",
       "6300              unknow\n",
       "6301              unknow\n",
       "25722             unknow\n",
       "Name: species, Length: 6301, dtype: object"
      ]
     },
     "execution_count": 55,
     "metadata": {},
     "output_type": "execute_result"
    }
   ],
   "source": [
    "df['species']"
   ]
  },
  {
   "cell_type": "markdown",
   "id": "recorded-special",
   "metadata": {},
   "source": [
    "### It looks like a similar approach one would fit well"
   ]
  },
  {
   "cell_type": "code",
   "execution_count": 56,
   "id": "domestic-evening",
   "metadata": {},
   "outputs": [],
   "source": [
    "df['species'] =  df['species'].apply(str.lower)"
   ]
  },
  {
   "cell_type": "code",
   "execution_count": 57,
   "id": "medieval-penguin",
   "metadata": {},
   "outputs": [],
   "source": [
    "# Transforming the registers in lists of words:\n",
    "std_spec = [register.split() for register in df['species'] if register]\n",
    "\n",
    "# Bringing all the data to the one unique list and removing non word characters:\n",
    "std_spec = [re.sub('\\W', \"\", word).lower() for register in std_spec for word in register]\n",
    "\n",
    "# Making a dict with the number of occurences:\n",
    "std_spec = { word : std_spec.count(word) for word in set(std_spec) }\n",
    "\n",
    "# Removing words that do not say much:\n",
    "dispensable_words = [\"\", \"to\", \"and\", \"the\", \"in\", \"on\",\"was\", \"by\"]\n",
    "for word in dispensable_words:\n",
    "    try:\n",
    "        std_injury.pop(word)\n",
    "    except:\n",
    "        pass"
   ]
  },
  {
   "cell_type": "code",
   "execution_count": 58,
   "id": "center-concert",
   "metadata": {},
   "outputs": [],
   "source": [
    "def classify_spec(campo):\n",
    "    campo = str(campo).lower()\n",
    "    campo = campo.split(\" \")\n",
    "    campo = [re.sub(\"\\W\", \"\", word) for word in campo]\n",
    "    ranking = { word : std_injury[word] for word in campo if word in std_injury.keys()}\n",
    "    ranking = sorted(ranking.items(), key = lambda x : x[1], reverse = True)\n",
    "    ranking = ranking[:3]\n",
    "    ranking = [double[0] for double in ranking]\n",
    "    return ranking"
   ]
  },
  {
   "cell_type": "code",
   "execution_count": 59,
   "id": "adverse-american",
   "metadata": {},
   "outputs": [],
   "source": [
    "df['species_kw'] = df['species'].apply(classify)"
   ]
  },
  {
   "cell_type": "code",
   "execution_count": 60,
   "id": "discrete-visibility",
   "metadata": {},
   "outputs": [
    {
     "data": {
      "text/html": [
       "<div>\n",
       "<style scoped>\n",
       "    .dataframe tbody tr th:only-of-type {\n",
       "        vertical-align: middle;\n",
       "    }\n",
       "\n",
       "    .dataframe tbody tr th {\n",
       "        vertical-align: top;\n",
       "    }\n",
       "\n",
       "    .dataframe thead th {\n",
       "        text-align: right;\n",
       "    }\n",
       "</style>\n",
       "<table border=\"1\" class=\"dataframe\">\n",
       "  <thead>\n",
       "    <tr style=\"text-align: right;\">\n",
       "      <th></th>\n",
       "      <th>species</th>\n",
       "      <th>species_kw</th>\n",
       "    </tr>\n",
       "  </thead>\n",
       "  <tbody>\n",
       "    <tr>\n",
       "      <th>0</th>\n",
       "      <td>white shark</td>\n",
       "      <td>[white]</td>\n",
       "    </tr>\n",
       "    <tr>\n",
       "      <th>1</th>\n",
       "      <td>unknow</td>\n",
       "      <td>[unknow]</td>\n",
       "    </tr>\n",
       "    <tr>\n",
       "      <th>2</th>\n",
       "      <td>unknow</td>\n",
       "      <td>[unknow]</td>\n",
       "    </tr>\n",
       "    <tr>\n",
       "      <th>3</th>\n",
       "      <td>2 m shark</td>\n",
       "      <td>[2, m]</td>\n",
       "    </tr>\n",
       "    <tr>\n",
       "      <th>4</th>\n",
       "      <td>tiger shark, 3m</td>\n",
       "      <td>[tiger, 3m]</td>\n",
       "    </tr>\n",
       "    <tr>\n",
       "      <th>5</th>\n",
       "      <td>unknow</td>\n",
       "      <td>[unknow]</td>\n",
       "    </tr>\n",
       "    <tr>\n",
       "      <th>6</th>\n",
       "      <td>tiger shark</td>\n",
       "      <td>[tiger]</td>\n",
       "    </tr>\n",
       "    <tr>\n",
       "      <th>7</th>\n",
       "      <td>lemon shark, 3'</td>\n",
       "      <td>[3]</td>\n",
       "    </tr>\n",
       "    <tr>\n",
       "      <th>8</th>\n",
       "      <td>bull shark, 6'</td>\n",
       "      <td>[6, bull]</td>\n",
       "    </tr>\n",
       "    <tr>\n",
       "      <th>9</th>\n",
       "      <td>unknow</td>\n",
       "      <td>[unknow]</td>\n",
       "    </tr>\n",
       "    <tr>\n",
       "      <th>10</th>\n",
       "      <td>grey reef shark</td>\n",
       "      <td>[reef, grey]</td>\n",
       "    </tr>\n",
       "    <tr>\n",
       "      <th>11</th>\n",
       "      <td>unknow</td>\n",
       "      <td>[unknow]</td>\n",
       "    </tr>\n",
       "    <tr>\n",
       "      <th>12</th>\n",
       "      <td>unknow</td>\n",
       "      <td>[unknow]</td>\n",
       "    </tr>\n",
       "    <tr>\n",
       "      <th>13</th>\n",
       "      <td>invalid incident</td>\n",
       "      <td>[incident]</td>\n",
       "    </tr>\n",
       "    <tr>\n",
       "      <th>14</th>\n",
       "      <td>tawny nurse shark, 2m</td>\n",
       "      <td>[nurse]</td>\n",
       "    </tr>\n",
       "    <tr>\n",
       "      <th>15</th>\n",
       "      <td>unknow</td>\n",
       "      <td>[unknow]</td>\n",
       "    </tr>\n",
       "    <tr>\n",
       "      <th>16</th>\n",
       "      <td>shark involvement not confirmed</td>\n",
       "      <td>[not, involvement, confirmed]</td>\n",
       "    </tr>\n",
       "    <tr>\n",
       "      <th>17</th>\n",
       "      <td>unknow</td>\n",
       "      <td>[unknow]</td>\n",
       "    </tr>\n",
       "    <tr>\n",
       "      <th>18</th>\n",
       "      <td>tiger shark</td>\n",
       "      <td>[tiger]</td>\n",
       "    </tr>\n",
       "    <tr>\n",
       "      <th>19</th>\n",
       "      <td>unknow</td>\n",
       "      <td>[unknow]</td>\n",
       "    </tr>\n",
       "    <tr>\n",
       "      <th>20</th>\n",
       "      <td>questionable</td>\n",
       "      <td>[questionable]</td>\n",
       "    </tr>\n",
       "    <tr>\n",
       "      <th>21</th>\n",
       "      <td>3 m shark</td>\n",
       "      <td>[3, m]</td>\n",
       "    </tr>\n",
       "    <tr>\n",
       "      <th>22</th>\n",
       "      <td>white shark, 3.5 m</td>\n",
       "      <td>[m, white, 35]</td>\n",
       "    </tr>\n",
       "    <tr>\n",
       "      <th>23</th>\n",
       "      <td>tiger shark</td>\n",
       "      <td>[tiger]</td>\n",
       "    </tr>\n",
       "    <tr>\n",
       "      <th>24</th>\n",
       "      <td>white shark, 2.5 m</td>\n",
       "      <td>[m, white, 25]</td>\n",
       "    </tr>\n",
       "    <tr>\n",
       "      <th>25</th>\n",
       "      <td>6' shark</td>\n",
       "      <td>[6]</td>\n",
       "    </tr>\n",
       "    <tr>\n",
       "      <th>26</th>\n",
       "      <td>juvenile bull shark</td>\n",
       "      <td>[bull]</td>\n",
       "    </tr>\n",
       "    <tr>\n",
       "      <th>27</th>\n",
       "      <td>unknow</td>\n",
       "      <td>[unknow]</td>\n",
       "    </tr>\n",
       "    <tr>\n",
       "      <th>28</th>\n",
       "      <td>unknow</td>\n",
       "      <td>[unknow]</td>\n",
       "    </tr>\n",
       "    <tr>\n",
       "      <th>29</th>\n",
       "      <td>unknow</td>\n",
       "      <td>[unknow]</td>\n",
       "    </tr>\n",
       "    <tr>\n",
       "      <th>30</th>\n",
       "      <td>tiger shark</td>\n",
       "      <td>[tiger]</td>\n",
       "    </tr>\n",
       "    <tr>\n",
       "      <th>31</th>\n",
       "      <td>shark involvement not confirmed</td>\n",
       "      <td>[not, involvement, confirmed]</td>\n",
       "    </tr>\n",
       "    <tr>\n",
       "      <th>32</th>\n",
       "      <td>2 m shark</td>\n",
       "      <td>[2, m]</td>\n",
       "    </tr>\n",
       "    <tr>\n",
       "      <th>33</th>\n",
       "      <td>bull shark</td>\n",
       "      <td>[bull]</td>\n",
       "    </tr>\n",
       "    <tr>\n",
       "      <th>34</th>\n",
       "      <td>white shark</td>\n",
       "      <td>[white]</td>\n",
       "    </tr>\n",
       "    <tr>\n",
       "      <th>35</th>\n",
       "      <td>tiger shark, 12'</td>\n",
       "      <td>[tiger, 12]</td>\n",
       "    </tr>\n",
       "    <tr>\n",
       "      <th>36</th>\n",
       "      <td>wobbegong shark</td>\n",
       "      <td>[]</td>\n",
       "    </tr>\n",
       "    <tr>\n",
       "      <th>37</th>\n",
       "      <td>3.5 m shark</td>\n",
       "      <td>[m, 35]</td>\n",
       "    </tr>\n",
       "    <tr>\n",
       "      <th>38</th>\n",
       "      <td>1.8 m shark</td>\n",
       "      <td>[m, 18]</td>\n",
       "    </tr>\n",
       "    <tr>\n",
       "      <th>39</th>\n",
       "      <td>blacktip shark</td>\n",
       "      <td>[blacktip]</td>\n",
       "    </tr>\n",
       "    <tr>\n",
       "      <th>40</th>\n",
       "      <td>juvenile white shark,  2.7 to 3.2 m</td>\n",
       "      <td>[m, white, 27, 32]</td>\n",
       "    </tr>\n",
       "    <tr>\n",
       "      <th>41</th>\n",
       "      <td>unknow</td>\n",
       "      <td>[unknow]</td>\n",
       "    </tr>\n",
       "    <tr>\n",
       "      <th>42</th>\n",
       "      <td>bull shark, 2 m</td>\n",
       "      <td>[2, m, bull]</td>\n",
       "    </tr>\n",
       "    <tr>\n",
       "      <th>43</th>\n",
       "      <td>possibly a wobbegong</td>\n",
       "      <td>[a, possibly]</td>\n",
       "    </tr>\n",
       "    <tr>\n",
       "      <th>44</th>\n",
       "      <td>injury believed caused by an eel, not a shark</td>\n",
       "      <td>[injury, a, not, an]</td>\n",
       "    </tr>\n",
       "    <tr>\n",
       "      <th>45</th>\n",
       "      <td>galapagos shark?</td>\n",
       "      <td>[]</td>\n",
       "    </tr>\n",
       "    <tr>\n",
       "      <th>46</th>\n",
       "      <td>2m shark</td>\n",
       "      <td>[]</td>\n",
       "    </tr>\n",
       "    <tr>\n",
       "      <th>47</th>\n",
       "      <td>bull shark</td>\n",
       "      <td>[bull]</td>\n",
       "    </tr>\n",
       "    <tr>\n",
       "      <th>48</th>\n",
       "      <td>bull shark, 3 m</td>\n",
       "      <td>[3, m, bull]</td>\n",
       "    </tr>\n",
       "    <tr>\n",
       "      <th>49</th>\n",
       "      <td>grey reef shark. 2 m</td>\n",
       "      <td>[2, m, reef, grey]</td>\n",
       "    </tr>\n",
       "  </tbody>\n",
       "</table>\n",
       "</div>"
      ],
      "text/plain": [
       "                                          species  \\\n",
       "0                                     white shark   \n",
       "1                                          unknow   \n",
       "2                                          unknow   \n",
       "3                                       2 m shark   \n",
       "4                                 tiger shark, 3m   \n",
       "5                                          unknow   \n",
       "6                                     tiger shark   \n",
       "7                                 lemon shark, 3'   \n",
       "8                                  bull shark, 6'   \n",
       "9                                          unknow   \n",
       "10                                grey reef shark   \n",
       "11                                         unknow   \n",
       "12                                         unknow   \n",
       "13                               invalid incident   \n",
       "14                          tawny nurse shark, 2m   \n",
       "15                                         unknow   \n",
       "16                shark involvement not confirmed   \n",
       "17                                         unknow   \n",
       "18                                    tiger shark   \n",
       "19                                         unknow   \n",
       "20                                   questionable   \n",
       "21                                      3 m shark   \n",
       "22                             white shark, 3.5 m   \n",
       "23                                    tiger shark   \n",
       "24                             white shark, 2.5 m   \n",
       "25                                       6' shark   \n",
       "26                            juvenile bull shark   \n",
       "27                                         unknow   \n",
       "28                                         unknow   \n",
       "29                                         unknow   \n",
       "30                                    tiger shark   \n",
       "31                shark involvement not confirmed   \n",
       "32                                      2 m shark   \n",
       "33                                     bull shark   \n",
       "34                                    white shark   \n",
       "35                               tiger shark, 12'   \n",
       "36                                wobbegong shark   \n",
       "37                                    3.5 m shark   \n",
       "38                                    1.8 m shark   \n",
       "39                                 blacktip shark   \n",
       "40            juvenile white shark,  2.7 to 3.2 m   \n",
       "41                                         unknow   \n",
       "42                                bull shark, 2 m   \n",
       "43                           possibly a wobbegong   \n",
       "44  injury believed caused by an eel, not a shark   \n",
       "45                               galapagos shark?   \n",
       "46                                       2m shark   \n",
       "47                                     bull shark   \n",
       "48                               bull shark, 3 m    \n",
       "49                           grey reef shark. 2 m   \n",
       "\n",
       "                       species_kw  \n",
       "0                         [white]  \n",
       "1                        [unknow]  \n",
       "2                        [unknow]  \n",
       "3                          [2, m]  \n",
       "4                     [tiger, 3m]  \n",
       "5                        [unknow]  \n",
       "6                         [tiger]  \n",
       "7                             [3]  \n",
       "8                       [6, bull]  \n",
       "9                        [unknow]  \n",
       "10                   [reef, grey]  \n",
       "11                       [unknow]  \n",
       "12                       [unknow]  \n",
       "13                     [incident]  \n",
       "14                        [nurse]  \n",
       "15                       [unknow]  \n",
       "16  [not, involvement, confirmed]  \n",
       "17                       [unknow]  \n",
       "18                        [tiger]  \n",
       "19                       [unknow]  \n",
       "20                 [questionable]  \n",
       "21                         [3, m]  \n",
       "22                 [m, white, 35]  \n",
       "23                        [tiger]  \n",
       "24                 [m, white, 25]  \n",
       "25                            [6]  \n",
       "26                         [bull]  \n",
       "27                       [unknow]  \n",
       "28                       [unknow]  \n",
       "29                       [unknow]  \n",
       "30                        [tiger]  \n",
       "31  [not, involvement, confirmed]  \n",
       "32                         [2, m]  \n",
       "33                         [bull]  \n",
       "34                        [white]  \n",
       "35                    [tiger, 12]  \n",
       "36                             []  \n",
       "37                        [m, 35]  \n",
       "38                        [m, 18]  \n",
       "39                     [blacktip]  \n",
       "40             [m, white, 27, 32]  \n",
       "41                       [unknow]  \n",
       "42                   [2, m, bull]  \n",
       "43                  [a, possibly]  \n",
       "44           [injury, a, not, an]  \n",
       "45                             []  \n",
       "46                             []  \n",
       "47                         [bull]  \n",
       "48                   [3, m, bull]  \n",
       "49             [2, m, reef, grey]  "
      ]
     },
     "execution_count": 60,
     "metadata": {},
     "output_type": "execute_result"
    }
   ],
   "source": [
    "df[['species', 'species_kw']].head(50)"
   ]
  },
  {
   "cell_type": "code",
   "execution_count": 61,
   "id": "crucial-radio",
   "metadata": {},
   "outputs": [
    {
     "data": {
      "text/plain": [
       "231"
      ]
     },
     "execution_count": 61,
     "metadata": {},
     "output_type": "execute_result"
    }
   ],
   "source": [
    "df['species_kw'].apply(lambda x: \"not\" in x).sum()"
   ]
  },
  {
   "cell_type": "code",
   "execution_count": 62,
   "id": "precise-mileage",
   "metadata": {},
   "outputs": [
    {
     "data": {
      "text/plain": [
       "125                                 no shark invovlement \n",
       "151        no shark invovlement - it ws a publicity stunt\n",
       "306                                  no shark involvement\n",
       "307                                  no shark involvement\n",
       "344                                  no shark involvement\n",
       "392                                  no shark involvement\n",
       "438                                  no shark involvement\n",
       "459                                  no shark involvement\n",
       "499                                  no shark involvement\n",
       "558                                  no shark involvement\n",
       "576                                  no shark involvement\n",
       "633                                  no shark involvement\n",
       "690                                  no shark involvement\n",
       "721                                  no shark involvement\n",
       "771                                  no shark involvement\n",
       "778                                  no shark involvement\n",
       "859                                  no shark involvement\n",
       "1064                                 no shark involvement\n",
       "1178                                 no shark involvement\n",
       "1295                                 no shark involvement\n",
       "1433                                 no shark involvement\n",
       "1569                                 no shark involvement\n",
       "1581    mr. burgess of isaf announced the injury was t...\n",
       "1618                                 no shark involvement\n",
       "Name: species, dtype: object"
      ]
     },
     "execution_count": 62,
     "metadata": {},
     "output_type": "execute_result"
    }
   ],
   "source": [
    "no_shark = df['species'][df['species_kw'].apply(lambda x: (\"no\" in x) ==True)]\n",
    "no_shark"
   ]
  },
  {
   "cell_type": "code",
   "execution_count": 63,
   "id": "occupied-dover",
   "metadata": {},
   "outputs": [
    {
     "data": {
      "text/plain": [
       "16                        shark involvement not confirmed\n",
       "31                        shark involvement not confirmed\n",
       "44          injury believed caused by an eel, not a shark\n",
       "115                       shark involvement not confirmed\n",
       "124        shark involvement prior to death not confirmed\n",
       "                              ...                        \n",
       "5486                      shark involvement not confirmed\n",
       "5493    shark involvement prior to death was not confi...\n",
       "5577                      shark involvement not confirmed\n",
       "5578                      shark involvement not confirmed\n",
       "6147              description of shark does not ring true\n",
       "Name: species, Length: 231, dtype: object"
      ]
     },
     "execution_count": 63,
     "metadata": {},
     "output_type": "execute_result"
    }
   ],
   "source": [
    "not_confirmed = df['species'][df['species_kw'].apply(lambda x: (\"not\" in x) ==True)]\n",
    "not_confirmed"
   ]
  },
  {
   "cell_type": "markdown",
   "id": "regional-passing",
   "metadata": {},
   "source": [
    "### Again, some words that offers a reclassification on the original column, so..."
   ]
  },
  {
   "cell_type": "code",
   "execution_count": 64,
   "id": "appropriate-package",
   "metadata": {},
   "outputs": [],
   "source": [
    "df['species_details'] = df['species']"
   ]
  },
  {
   "cell_type": "code",
   "execution_count": 65,
   "id": "experienced-fields",
   "metadata": {},
   "outputs": [],
   "source": [
    "df.loc[list(not_confirmed.index), 'species'] = 'shark involvement not confirmed'"
   ]
  },
  {
   "cell_type": "code",
   "execution_count": 66,
   "id": "welcome-judgment",
   "metadata": {},
   "outputs": [],
   "source": [
    "df.loc[list(no_shark.index), 'species'] = 'no shark involvement'"
   ]
  },
  {
   "cell_type": "code",
   "execution_count": 67,
   "id": "therapeutic-leeds",
   "metadata": {},
   "outputs": [
    {
     "data": {
      "text/plain": [
       "unknow                                     2849\n",
       "shark involvement not confirmed             231\n",
       "white shark                                 163\n",
       "invalid                                     102\n",
       "tiger shark                                  73\n",
       "                                           ... \n",
       "tiger shark, 8 to 10 feet                     1\n",
       "4.9 m to 5.5 m [16' to 18'] white shark       1\n",
       "white shark, 3.6 m,  420 kg male              1\n",
       "bronze whaler shark, 2.4 m [8']               1\n",
       "\"attacked by a number of sharks\"              1\n",
       "Name: species, Length: 1508, dtype: int64"
      ]
     },
     "execution_count": 67,
     "metadata": {},
     "output_type": "execute_result"
    }
   ],
   "source": [
    "df['species'].value_counts()"
   ]
  },
  {
   "cell_type": "markdown",
   "id": "broke-macintosh",
   "metadata": {},
   "source": [
    "### Defining a function to retrieve numbers from species definition"
   ]
  },
  {
   "cell_type": "code",
   "execution_count": 68,
   "id": "recovered-wheat",
   "metadata": {},
   "outputs": [],
   "source": [
    "def sizing (row):\n",
    "    # get a list of words\n",
    "    spec = row.split(\" \")\n",
    "    # filter just numbers (decimals and integers) plus possible measures:\n",
    "    size = [word for word in spec if re.search(r\"^\\d*[.,]?\\d*[-]?[mkglbcm]*['\\\"]?$\",word) != None]\n",
    "    # calculate the average for cases that have more than one numeric values\n",
    "    if len(size)>0:\n",
    "        size = [re.findall('\\d+',word) for word in size]\n",
    "        size = [float(number) for lista in size for number in lista]\n",
    "        try:\n",
    "            return round(\n",
    "                         sum(size)/len(size),\n",
    "                         1)    \n",
    "        except:\n",
    "            pass"
   ]
  },
  {
   "cell_type": "code",
   "execution_count": 69,
   "id": "intelligent-elimination",
   "metadata": {},
   "outputs": [],
   "source": [
    "df['size'] = df['species'].apply(sizing)"
   ]
  },
  {
   "cell_type": "code",
   "execution_count": 70,
   "id": "funded-boundary",
   "metadata": {},
   "outputs": [
    {
     "data": {
      "text/plain": [
       "3.0      356\n",
       "4.5      214\n",
       "4.0      180\n",
       "5.0      179\n",
       "2.0      122\n",
       "        ... \n",
       "157.0      1\n",
       "96.3       1\n",
       "26.0       1\n",
       "33.0       1\n",
       "56.0       1\n",
       "Name: size, Length: 137, dtype: int64"
      ]
     },
     "execution_count": 70,
     "metadata": {},
     "output_type": "execute_result"
    }
   ],
   "source": [
    "df['size'].value_counts()"
   ]
  },
  {
   "cell_type": "markdown",
   "id": "adequate-biotechnology",
   "metadata": {},
   "source": [
    "### Defining function to identify measurement unity"
   ]
  },
  {
   "cell_type": "code",
   "execution_count": 71,
   "id": "collected-sally",
   "metadata": {},
   "outputs": [],
   "source": [
    "def measure (row):\n",
    "    spec = row.split(\" \")\n",
    "    # filter just numbers (decimals and integers) plus possible measures:\n",
    "    size = [word for word in spec if re.search(r\"^\\d*[.,]?\\d*[-]?[mkglbcm]*[feet$]*[foot$]*['\\\"]?$\",word) != None]\n",
    "    # calculate the average for cases that have more than one numeric values\n",
    "    irrelevant_words = ['to', 'of', 'be', 'by','too', '']\n",
    "    if len(size)>0:\n",
    "        size = [re.findall('[A-Za-z\\'\"]+',word) for word in size]\n",
    "        size = [word for lista in size for word in lista if word not in irrelevant_words]\n",
    "        size = list(set(size))\n",
    "        return(size) "
   ]
  },
  {
   "cell_type": "code",
   "execution_count": 72,
   "id": "ancient-major",
   "metadata": {},
   "outputs": [],
   "source": [
    "df['size_measure'] = df['species'].apply(measure)"
   ]
  },
  {
   "cell_type": "code",
   "execution_count": 73,
   "id": "bottom-fraction",
   "metadata": {},
   "outputs": [
    {
     "data": {
      "text/plain": [
       "None                4091\n",
       "['m']               1281\n",
       "[\"'\"]                586\n",
       "[]                   204\n",
       "['lb']                35\n",
       "['kg']                32\n",
       "['m', 'lb']           15\n",
       "['m', 'kg']           13\n",
       "['cm']                13\n",
       "['\"']                  9\n",
       "['feet']               5\n",
       "['foot']               4\n",
       "['m', 'k']             4\n",
       "['lb', \"'\"]            2\n",
       "['m', \"'\"]             1\n",
       "['t', 'm', 'kg']       1\n",
       "['mm']                 1\n",
       "['llb']                1\n",
       "['k', \"'\"]             1\n",
       "['left', 'cm']         1\n",
       "['ft']                 1\n",
       "Name: size_measure, dtype: int64"
      ]
     },
     "execution_count": 73,
     "metadata": {},
     "output_type": "execute_result"
    }
   ],
   "source": [
    "df['size_measure'].apply(str).value_counts()"
   ]
  },
  {
   "cell_type": "markdown",
   "id": "handed-journalist",
   "metadata": {},
   "source": [
    "### There are cases in wich more than one measurement was registered\n",
    "\n",
    "* Let´s choose between then. For sake os simplicity, the preference will be given to meters"
   ]
  },
  {
   "cell_type": "markdown",
   "id": "antique-intention",
   "metadata": {},
   "source": [
    "### STILL NEEDS SOME CLEANING ON DOUBLE MEASUREMENT CASES"
   ]
  },
  {
   "cell_type": "markdown",
   "id": "excellent-surge",
   "metadata": {},
   "source": [
    "### I will leave this for a next time due its significance "
   ]
  },
  {
   "cell_type": "markdown",
   "id": "generic-motion",
   "metadata": {},
   "source": [
    "## DATE IS MORE IMPORTANT"
   ]
  },
  {
   "cell_type": "code",
   "execution_count": 74,
   "id": "split-bearing",
   "metadata": {},
   "outputs": [
    {
     "data": {
      "text/html": [
       "<div>\n",
       "<style scoped>\n",
       "    .dataframe tbody tr th:only-of-type {\n",
       "        vertical-align: middle;\n",
       "    }\n",
       "\n",
       "    .dataframe tbody tr th {\n",
       "        vertical-align: top;\n",
       "    }\n",
       "\n",
       "    .dataframe thead th {\n",
       "        text-align: right;\n",
       "    }\n",
       "</style>\n",
       "<table border=\"1\" class=\"dataframe\">\n",
       "  <thead>\n",
       "    <tr style=\"text-align: right;\">\n",
       "      <th></th>\n",
       "      <th>case_number</th>\n",
       "      <th>date</th>\n",
       "      <th>year</th>\n",
       "      <th>type</th>\n",
       "      <th>country</th>\n",
       "      <th>area</th>\n",
       "      <th>location</th>\n",
       "      <th>activity</th>\n",
       "      <th>name</th>\n",
       "      <th>sex</th>\n",
       "      <th>...</th>\n",
       "      <th>original_order</th>\n",
       "      <th>unnamed:_22</th>\n",
       "      <th>unnamed:_23</th>\n",
       "      <th>act_cat</th>\n",
       "      <th>injury_kw</th>\n",
       "      <th>injury_details</th>\n",
       "      <th>species_kw</th>\n",
       "      <th>species_details</th>\n",
       "      <th>size</th>\n",
       "      <th>size_measure</th>\n",
       "    </tr>\n",
       "  </thead>\n",
       "  <tbody>\n",
       "  </tbody>\n",
       "</table>\n",
       "<p>0 rows × 31 columns</p>\n",
       "</div>"
      ],
      "text/plain": [
       "Empty DataFrame\n",
       "Columns: [case_number, date, year, type, country, area, location, activity, name, sex, age, injury, fatal_(y/n), time, species, investigator_or_source, pdf, href_formula, href, case_number.1, case_number.2, original_order, unnamed:_22, unnamed:_23, act_cat, injury_kw, injury_details, species_kw, species_details, size, size_measure]\n",
       "Index: []\n",
       "\n",
       "[0 rows x 31 columns]"
      ]
     },
     "execution_count": 74,
     "metadata": {},
     "output_type": "execute_result"
    }
   ],
   "source": [
    "df.loc[df['date'].apply(type)==float]"
   ]
  },
  {
   "cell_type": "code",
   "execution_count": 75,
   "id": "powered-coach",
   "metadata": {},
   "outputs": [],
   "source": [
    "df.drop(index=25722, inplace=True)"
   ]
  },
  {
   "cell_type": "code",
   "execution_count": 76,
   "id": "bizarre-greek",
   "metadata": {},
   "outputs": [],
   "source": [
    "df['year_aux'] = df['date'].apply(lambda x : re.findall('[0-9][0-9][0-9][0-9]{0,1}', x))"
   ]
  },
  {
   "cell_type": "code",
   "execution_count": 77,
   "id": "average-richards",
   "metadata": {},
   "outputs": [],
   "source": [
    "def str_to_int (lista) :\n",
    "    lista = [int(item) for item in lista]\n",
    "    if len(lista) == 0:\n",
    "        lista = [0]\n",
    "        return \n",
    "    else:\n",
    "        return(lista)"
   ]
  },
  {
   "cell_type": "code",
   "execution_count": 78,
   "id": "secondary-shooting",
   "metadata": {},
   "outputs": [],
   "source": [
    "df['year_avg'] = df['year_aux'].apply(str_to_int)"
   ]
  },
  {
   "cell_type": "code",
   "execution_count": 79,
   "id": "recent-puppy",
   "metadata": {},
   "outputs": [
    {
     "data": {
      "text/plain": [
       "0       <class 'list'>\n",
       "1       <class 'list'>\n",
       "2       <class 'list'>\n",
       "3       <class 'list'>\n",
       "4       <class 'list'>\n",
       "             ...      \n",
       "6297    <class 'list'>\n",
       "6298    <class 'list'>\n",
       "6299    <class 'list'>\n",
       "6300    <class 'list'>\n",
       "6301    <class 'list'>\n",
       "Name: year_avg, Length: 6300, dtype: object"
      ]
     },
     "execution_count": 79,
     "metadata": {},
     "output_type": "execute_result"
    }
   ],
   "source": [
    "df['year_avg'].apply(type)"
   ]
  },
  {
   "cell_type": "code",
   "execution_count": 80,
   "id": "accepting-command",
   "metadata": {},
   "outputs": [],
   "source": [
    "indexes = df[df['year_avg'].isnull()].index"
   ]
  },
  {
   "cell_type": "code",
   "execution_count": 81,
   "id": "absolute-cancer",
   "metadata": {},
   "outputs": [],
   "source": [
    "df.loc[list(indexes), 'year_avg'] = 0"
   ]
  },
  {
   "cell_type": "code",
   "execution_count": 82,
   "id": "sharp-phenomenon",
   "metadata": {},
   "outputs": [],
   "source": [
    "def avg_year (row):\n",
    "    try:\n",
    "        soma = sum(row)\n",
    "        itens =  len(row)\n",
    "        if (soma > 0) & (itens > 0):\n",
    "            year = int((soma/itens))\n",
    "            return  year\n",
    "    except:\n",
    "        return 'unknow'"
   ]
  },
  {
   "cell_type": "code",
   "execution_count": 83,
   "id": "confident-initial",
   "metadata": {},
   "outputs": [],
   "source": [
    "df['year_avg'] =df['year_avg'].apply(avg_year)"
   ]
  },
  {
   "cell_type": "code",
   "execution_count": 84,
   "id": "different-wilderness",
   "metadata": {},
   "outputs": [
    {
     "data": {
      "text/html": [
       "<div>\n",
       "<style scoped>\n",
       "    .dataframe tbody tr th:only-of-type {\n",
       "        vertical-align: middle;\n",
       "    }\n",
       "\n",
       "    .dataframe tbody tr th {\n",
       "        vertical-align: top;\n",
       "    }\n",
       "\n",
       "    .dataframe thead th {\n",
       "        text-align: right;\n",
       "    }\n",
       "</style>\n",
       "<table border=\"1\" class=\"dataframe\">\n",
       "  <thead>\n",
       "    <tr style=\"text-align: right;\">\n",
       "      <th></th>\n",
       "      <th>case_number</th>\n",
       "      <th>date</th>\n",
       "      <th>year</th>\n",
       "      <th>type</th>\n",
       "      <th>country</th>\n",
       "      <th>area</th>\n",
       "      <th>location</th>\n",
       "      <th>activity</th>\n",
       "      <th>name</th>\n",
       "      <th>sex</th>\n",
       "      <th>...</th>\n",
       "      <th>unnamed:_23</th>\n",
       "      <th>act_cat</th>\n",
       "      <th>injury_kw</th>\n",
       "      <th>injury_details</th>\n",
       "      <th>species_kw</th>\n",
       "      <th>species_details</th>\n",
       "      <th>size</th>\n",
       "      <th>size_measure</th>\n",
       "      <th>year_aux</th>\n",
       "      <th>year_avg</th>\n",
       "    </tr>\n",
       "  </thead>\n",
       "  <tbody>\n",
       "    <tr>\n",
       "      <th>0</th>\n",
       "      <td>2018.06.25</td>\n",
       "      <td>25-Jun-2018</td>\n",
       "      <td>2018.0</td>\n",
       "      <td>Boating</td>\n",
       "      <td>USA</td>\n",
       "      <td>California</td>\n",
       "      <td>Oceanside, San Diego County</td>\n",
       "      <td>Paddling</td>\n",
       "      <td>Julie Wolfe</td>\n",
       "      <td>F</td>\n",
       "      <td>...</td>\n",
       "      <td>NaN</td>\n",
       "      <td>paddling</td>\n",
       "      <td>[injury, no, occupant, damaged]</td>\n",
       "      <td>No injury to occupant, outrigger canoe and pad...</td>\n",
       "      <td>[white]</td>\n",
       "      <td>white shark</td>\n",
       "      <td>NaN</td>\n",
       "      <td>None</td>\n",
       "      <td>[2018]</td>\n",
       "      <td>2018</td>\n",
       "    </tr>\n",
       "    <tr>\n",
       "      <th>1</th>\n",
       "      <td>2018.06.18</td>\n",
       "      <td>18-Jun-2018</td>\n",
       "      <td>2018.0</td>\n",
       "      <td>Unprovoked</td>\n",
       "      <td>USA</td>\n",
       "      <td>Georgia</td>\n",
       "      <td>St. Simon Island, Glynn County</td>\n",
       "      <td>Standing</td>\n",
       "      <td>Adyson McNeely</td>\n",
       "      <td>F</td>\n",
       "      <td>...</td>\n",
       "      <td>NaN</td>\n",
       "      <td>standing</td>\n",
       "      <td>[injury, left, thigh, minor]</td>\n",
       "      <td>Minor injury to left thigh</td>\n",
       "      <td>[unknow]</td>\n",
       "      <td>unknow</td>\n",
       "      <td>NaN</td>\n",
       "      <td>None</td>\n",
       "      <td>[2018]</td>\n",
       "      <td>2018</td>\n",
       "    </tr>\n",
       "    <tr>\n",
       "      <th>2</th>\n",
       "      <td>2018.06.09</td>\n",
       "      <td>09-Jun-2018</td>\n",
       "      <td>2018.0</td>\n",
       "      <td>Invalid</td>\n",
       "      <td>USA</td>\n",
       "      <td>Hawaii</td>\n",
       "      <td>Habush, Oahu</td>\n",
       "      <td>Surfing</td>\n",
       "      <td>John Denges</td>\n",
       "      <td>M</td>\n",
       "      <td>...</td>\n",
       "      <td>NaN</td>\n",
       "      <td>surfing</td>\n",
       "      <td>[injury, leg, left, lower]</td>\n",
       "      <td>Injury to left lower leg from surfboard skeg</td>\n",
       "      <td>[unknow]</td>\n",
       "      <td>unknow</td>\n",
       "      <td>NaN</td>\n",
       "      <td>None</td>\n",
       "      <td>[2018]</td>\n",
       "      <td>2018</td>\n",
       "    </tr>\n",
       "    <tr>\n",
       "      <th>3</th>\n",
       "      <td>2018.06.08</td>\n",
       "      <td>08-Jun-2018</td>\n",
       "      <td>2018.0</td>\n",
       "      <td>Unprovoked</td>\n",
       "      <td>AUSTRALIA</td>\n",
       "      <td>New South Wales</td>\n",
       "      <td>Arrawarra Headland</td>\n",
       "      <td>Surfing</td>\n",
       "      <td>male</td>\n",
       "      <td>M</td>\n",
       "      <td>...</td>\n",
       "      <td>NaN</td>\n",
       "      <td>surfing</td>\n",
       "      <td>[injury, leg, minor, lower]</td>\n",
       "      <td>Minor injury to lower leg</td>\n",
       "      <td>[2, m]</td>\n",
       "      <td>2 m shark</td>\n",
       "      <td>2.0</td>\n",
       "      <td>[m]</td>\n",
       "      <td>[2018]</td>\n",
       "      <td>2018</td>\n",
       "    </tr>\n",
       "    <tr>\n",
       "      <th>4</th>\n",
       "      <td>2018.06.04</td>\n",
       "      <td>04-Jun-2018</td>\n",
       "      <td>2018.0</td>\n",
       "      <td>Provoked</td>\n",
       "      <td>MEXICO</td>\n",
       "      <td>Colima</td>\n",
       "      <td>La Ticla</td>\n",
       "      <td>Free diving</td>\n",
       "      <td>Gustavo Ramos</td>\n",
       "      <td>M</td>\n",
       "      <td>...</td>\n",
       "      <td>NaN</td>\n",
       "      <td>unknow</td>\n",
       "      <td>[leg, lacerations, provoked, incident]</td>\n",
       "      <td>Lacerations to leg &amp; hand shark PROVOKED INCIDENT</td>\n",
       "      <td>[tiger, 3m]</td>\n",
       "      <td>tiger shark, 3m</td>\n",
       "      <td>3.0</td>\n",
       "      <td>[m]</td>\n",
       "      <td>[2018]</td>\n",
       "      <td>2018</td>\n",
       "    </tr>\n",
       "    <tr>\n",
       "      <th>...</th>\n",
       "      <td>...</td>\n",
       "      <td>...</td>\n",
       "      <td>...</td>\n",
       "      <td>...</td>\n",
       "      <td>...</td>\n",
       "      <td>...</td>\n",
       "      <td>...</td>\n",
       "      <td>...</td>\n",
       "      <td>...</td>\n",
       "      <td>...</td>\n",
       "      <td>...</td>\n",
       "      <td>...</td>\n",
       "      <td>...</td>\n",
       "      <td>...</td>\n",
       "      <td>...</td>\n",
       "      <td>...</td>\n",
       "      <td>...</td>\n",
       "      <td>...</td>\n",
       "      <td>...</td>\n",
       "      <td>...</td>\n",
       "      <td>...</td>\n",
       "    </tr>\n",
       "    <tr>\n",
       "      <th>6297</th>\n",
       "      <td>ND.0005</td>\n",
       "      <td>Before 1903</td>\n",
       "      <td>0.0</td>\n",
       "      <td>Unprovoked</td>\n",
       "      <td>AUSTRALIA</td>\n",
       "      <td>Western Australia</td>\n",
       "      <td>Roebuck Bay</td>\n",
       "      <td>Diving</td>\n",
       "      <td>male</td>\n",
       "      <td>M</td>\n",
       "      <td>...</td>\n",
       "      <td>NaN</td>\n",
       "      <td>diving</td>\n",
       "      <td>[fatal]</td>\n",
       "      <td>FATAL</td>\n",
       "      <td>[unknow]</td>\n",
       "      <td>unknow</td>\n",
       "      <td>NaN</td>\n",
       "      <td>None</td>\n",
       "      <td>[1903]</td>\n",
       "      <td>1903</td>\n",
       "    </tr>\n",
       "    <tr>\n",
       "      <th>6298</th>\n",
       "      <td>ND.0004</td>\n",
       "      <td>Before 1903</td>\n",
       "      <td>0.0</td>\n",
       "      <td>Unprovoked</td>\n",
       "      <td>AUSTRALIA</td>\n",
       "      <td>Western Australia</td>\n",
       "      <td>NaN</td>\n",
       "      <td>Pearl diving</td>\n",
       "      <td>Ahmun</td>\n",
       "      <td>M</td>\n",
       "      <td>...</td>\n",
       "      <td>NaN</td>\n",
       "      <td>unknow</td>\n",
       "      <td>[fatal]</td>\n",
       "      <td>FATAL</td>\n",
       "      <td>[unknow]</td>\n",
       "      <td>unknow</td>\n",
       "      <td>NaN</td>\n",
       "      <td>None</td>\n",
       "      <td>[1903]</td>\n",
       "      <td>1903</td>\n",
       "    </tr>\n",
       "    <tr>\n",
       "      <th>6299</th>\n",
       "      <td>ND.0003</td>\n",
       "      <td>1900-1905</td>\n",
       "      <td>0.0</td>\n",
       "      <td>Unprovoked</td>\n",
       "      <td>USA</td>\n",
       "      <td>North Carolina</td>\n",
       "      <td>Ocracoke Inlet</td>\n",
       "      <td>Swimming</td>\n",
       "      <td>Coast Guard personnel</td>\n",
       "      <td>M</td>\n",
       "      <td>...</td>\n",
       "      <td>NaN</td>\n",
       "      <td>swimming</td>\n",
       "      <td>[fatal]</td>\n",
       "      <td>FATAL</td>\n",
       "      <td>[unknow]</td>\n",
       "      <td>unknow</td>\n",
       "      <td>NaN</td>\n",
       "      <td>None</td>\n",
       "      <td>[1900, 1905]</td>\n",
       "      <td>1902</td>\n",
       "    </tr>\n",
       "    <tr>\n",
       "      <th>6300</th>\n",
       "      <td>ND.0002</td>\n",
       "      <td>1883-1889</td>\n",
       "      <td>0.0</td>\n",
       "      <td>Unprovoked</td>\n",
       "      <td>PANAMA</td>\n",
       "      <td>NaN</td>\n",
       "      <td>Panama Bay 8ºN, 79ºW</td>\n",
       "      <td>NaN</td>\n",
       "      <td>Jules Patterson</td>\n",
       "      <td>M</td>\n",
       "      <td>...</td>\n",
       "      <td>NaN</td>\n",
       "      <td>unknow</td>\n",
       "      <td>[fatal]</td>\n",
       "      <td>FATAL</td>\n",
       "      <td>[unknow]</td>\n",
       "      <td>unknow</td>\n",
       "      <td>NaN</td>\n",
       "      <td>None</td>\n",
       "      <td>[1883, 1889]</td>\n",
       "      <td>1886</td>\n",
       "    </tr>\n",
       "    <tr>\n",
       "      <th>6301</th>\n",
       "      <td>ND.0001</td>\n",
       "      <td>1845-1853</td>\n",
       "      <td>0.0</td>\n",
       "      <td>Unprovoked</td>\n",
       "      <td>CEYLON (SRI LANKA)</td>\n",
       "      <td>Eastern Province</td>\n",
       "      <td>Below the English fort, Trincomalee</td>\n",
       "      <td>Swimming</td>\n",
       "      <td>male</td>\n",
       "      <td>M</td>\n",
       "      <td>...</td>\n",
       "      <td>NaN</td>\n",
       "      <td>swimming</td>\n",
       "      <td>[fatal, bit, lower, him]</td>\n",
       "      <td>FATAL. \"Shark bit him in half, carrying away t...</td>\n",
       "      <td>[unknow]</td>\n",
       "      <td>unknow</td>\n",
       "      <td>NaN</td>\n",
       "      <td>None</td>\n",
       "      <td>[1845, 1853]</td>\n",
       "      <td>1849</td>\n",
       "    </tr>\n",
       "  </tbody>\n",
       "</table>\n",
       "<p>6300 rows × 33 columns</p>\n",
       "</div>"
      ],
      "text/plain": [
       "     case_number         date    year        type             country  \\\n",
       "0     2018.06.25  25-Jun-2018  2018.0     Boating                 USA   \n",
       "1     2018.06.18  18-Jun-2018  2018.0  Unprovoked                 USA   \n",
       "2     2018.06.09  09-Jun-2018  2018.0     Invalid                 USA   \n",
       "3     2018.06.08  08-Jun-2018  2018.0  Unprovoked           AUSTRALIA   \n",
       "4     2018.06.04  04-Jun-2018  2018.0    Provoked              MEXICO   \n",
       "...          ...          ...     ...         ...                 ...   \n",
       "6297     ND.0005  Before 1903     0.0  Unprovoked           AUSTRALIA   \n",
       "6298     ND.0004  Before 1903     0.0  Unprovoked           AUSTRALIA   \n",
       "6299     ND.0003    1900-1905     0.0  Unprovoked                 USA   \n",
       "6300     ND.0002    1883-1889     0.0  Unprovoked              PANAMA   \n",
       "6301     ND.0001    1845-1853     0.0  Unprovoked  CEYLON (SRI LANKA)   \n",
       "\n",
       "                   area                             location      activity  \\\n",
       "0            California          Oceanside, San Diego County      Paddling   \n",
       "1               Georgia       St. Simon Island, Glynn County      Standing   \n",
       "2                Hawaii                         Habush, Oahu       Surfing   \n",
       "3       New South Wales                   Arrawarra Headland       Surfing   \n",
       "4                Colima                             La Ticla   Free diving   \n",
       "...                 ...                                  ...           ...   \n",
       "6297  Western Australia                          Roebuck Bay        Diving   \n",
       "6298  Western Australia                                  NaN  Pearl diving   \n",
       "6299     North Carolina                       Ocracoke Inlet      Swimming   \n",
       "6300                NaN                 Panama Bay 8ºN, 79ºW           NaN   \n",
       "6301   Eastern Province  Below the English fort, Trincomalee      Swimming   \n",
       "\n",
       "                       name sex  ... unnamed:_23   act_cat  \\\n",
       "0               Julie Wolfe   F  ...         NaN  paddling   \n",
       "1           Adyson McNeely    F  ...         NaN  standing   \n",
       "2               John Denges   M  ...         NaN   surfing   \n",
       "3                      male   M  ...         NaN   surfing   \n",
       "4            Gustavo Ramos    M  ...         NaN    unknow   \n",
       "...                     ...  ..  ...         ...       ...   \n",
       "6297                   male   M  ...         NaN    diving   \n",
       "6298                  Ahmun   M  ...         NaN    unknow   \n",
       "6299  Coast Guard personnel   M  ...         NaN  swimming   \n",
       "6300        Jules Patterson   M  ...         NaN    unknow   \n",
       "6301                   male   M  ...         NaN  swimming   \n",
       "\n",
       "                                   injury_kw  \\\n",
       "0            [injury, no, occupant, damaged]   \n",
       "1               [injury, left, thigh, minor]   \n",
       "2                 [injury, leg, left, lower]   \n",
       "3                [injury, leg, minor, lower]   \n",
       "4     [leg, lacerations, provoked, incident]   \n",
       "...                                      ...   \n",
       "6297                                 [fatal]   \n",
       "6298                                 [fatal]   \n",
       "6299                                 [fatal]   \n",
       "6300                                 [fatal]   \n",
       "6301                [fatal, bit, lower, him]   \n",
       "\n",
       "                                         injury_details   species_kw  \\\n",
       "0     No injury to occupant, outrigger canoe and pad...      [white]   \n",
       "1                            Minor injury to left thigh     [unknow]   \n",
       "2          Injury to left lower leg from surfboard skeg     [unknow]   \n",
       "3                             Minor injury to lower leg       [2, m]   \n",
       "4     Lacerations to leg & hand shark PROVOKED INCIDENT  [tiger, 3m]   \n",
       "...                                                 ...          ...   \n",
       "6297                                              FATAL     [unknow]   \n",
       "6298                                              FATAL     [unknow]   \n",
       "6299                                              FATAL     [unknow]   \n",
       "6300                                              FATAL     [unknow]   \n",
       "6301  FATAL. \"Shark bit him in half, carrying away t...     [unknow]   \n",
       "\n",
       "      species_details size size_measure      year_aux year_avg  \n",
       "0         white shark  NaN         None        [2018]     2018  \n",
       "1              unknow  NaN         None        [2018]     2018  \n",
       "2              unknow  NaN         None        [2018]     2018  \n",
       "3           2 m shark  2.0          [m]        [2018]     2018  \n",
       "4     tiger shark, 3m  3.0          [m]        [2018]     2018  \n",
       "...               ...  ...          ...           ...      ...  \n",
       "6297           unknow  NaN         None        [1903]     1903  \n",
       "6298           unknow  NaN         None        [1903]     1903  \n",
       "6299           unknow  NaN         None  [1900, 1905]     1902  \n",
       "6300           unknow  NaN         None  [1883, 1889]     1886  \n",
       "6301           unknow  NaN         None  [1845, 1853]     1849  \n",
       "\n",
       "[6300 rows x 33 columns]"
      ]
     },
     "execution_count": 84,
     "metadata": {},
     "output_type": "execute_result"
    }
   ],
   "source": [
    "df"
   ]
  },
  {
   "cell_type": "code",
   "execution_count": 85,
   "id": "egyptian-furniture",
   "metadata": {},
   "outputs": [],
   "source": [
    "def before_jc (row):\n",
    "    marking = re.search('b.c.', row, re.I)\n",
    "    if marking != None:\n",
    "        return 'B.C.'\n",
    "    else:\n",
    "        return 'A.D.'"
   ]
  },
  {
   "cell_type": "code",
   "execution_count": 86,
   "id": "elementary-accordance",
   "metadata": {},
   "outputs": [],
   "source": [
    "df['ad/bc'] = str()"
   ]
  },
  {
   "cell_type": "code",
   "execution_count": 87,
   "id": "improving-testimony",
   "metadata": {},
   "outputs": [],
   "source": [
    "df['ad/bc'] = df['date'].apply(before_jc)"
   ]
  },
  {
   "cell_type": "code",
   "execution_count": 88,
   "id": "mobile-thomas",
   "metadata": {},
   "outputs": [
    {
     "data": {
      "text/html": [
       "<div>\n",
       "<style scoped>\n",
       "    .dataframe tbody tr th:only-of-type {\n",
       "        vertical-align: middle;\n",
       "    }\n",
       "\n",
       "    .dataframe tbody tr th {\n",
       "        vertical-align: top;\n",
       "    }\n",
       "\n",
       "    .dataframe thead th {\n",
       "        text-align: right;\n",
       "    }\n",
       "</style>\n",
       "<table border=\"1\" class=\"dataframe\">\n",
       "  <thead>\n",
       "    <tr style=\"text-align: right;\">\n",
       "      <th></th>\n",
       "      <th>case_number</th>\n",
       "      <th>date</th>\n",
       "      <th>year</th>\n",
       "      <th>type</th>\n",
       "      <th>country</th>\n",
       "      <th>area</th>\n",
       "      <th>location</th>\n",
       "      <th>activity</th>\n",
       "      <th>name</th>\n",
       "      <th>sex</th>\n",
       "      <th>...</th>\n",
       "      <th>act_cat</th>\n",
       "      <th>injury_kw</th>\n",
       "      <th>injury_details</th>\n",
       "      <th>species_kw</th>\n",
       "      <th>species_details</th>\n",
       "      <th>size</th>\n",
       "      <th>size_measure</th>\n",
       "      <th>year_aux</th>\n",
       "      <th>year_avg</th>\n",
       "      <th>ad/bc</th>\n",
       "    </tr>\n",
       "  </thead>\n",
       "  <tbody>\n",
       "    <tr>\n",
       "      <th>6177</th>\n",
       "      <td>0000.0214</td>\n",
       "      <td>Ca. 214 B.C.</td>\n",
       "      <td>0.0</td>\n",
       "      <td>Unprovoked</td>\n",
       "      <td>NaN</td>\n",
       "      <td>Ionian Sea</td>\n",
       "      <td>NaN</td>\n",
       "      <td>Ascending from a dive</td>\n",
       "      <td>Tharsys, a sponge diver</td>\n",
       "      <td>M</td>\n",
       "      <td>...</td>\n",
       "      <td>ascending</td>\n",
       "      <td>[fatal, sharks, bit, him]</td>\n",
       "      <td>FATAL, shark/s bit him in two</td>\n",
       "      <td>[unknow]</td>\n",
       "      <td>unknow</td>\n",
       "      <td>NaN</td>\n",
       "      <td>None</td>\n",
       "      <td>[214]</td>\n",
       "      <td>214</td>\n",
       "      <td>B.C.</td>\n",
       "    </tr>\n",
       "    <tr>\n",
       "      <th>6178</th>\n",
       "      <td>0000.0336</td>\n",
       "      <td>Ca. 336.B.C..</td>\n",
       "      <td>0.0</td>\n",
       "      <td>Unprovoked</td>\n",
       "      <td>GREECE</td>\n",
       "      <td>Piraeus</td>\n",
       "      <td>In the haven of Cantharus</td>\n",
       "      <td>Washing his pig in preparation for a religious...</td>\n",
       "      <td>A candidate for initiation</td>\n",
       "      <td>M</td>\n",
       "      <td>...</td>\n",
       "      <td>washing</td>\n",
       "      <td>[fatal, of, bit, lower]</td>\n",
       "      <td>FATAL, shark \"bit off all lower parts of him u...</td>\n",
       "      <td>[unknow]</td>\n",
       "      <td>unknow</td>\n",
       "      <td>NaN</td>\n",
       "      <td>None</td>\n",
       "      <td>[336]</td>\n",
       "      <td>336</td>\n",
       "      <td>B.C.</td>\n",
       "    </tr>\n",
       "    <tr>\n",
       "      <th>6179</th>\n",
       "      <td>0000.0493</td>\n",
       "      <td>493 B.C.</td>\n",
       "      <td>0.0</td>\n",
       "      <td>Sea Disaster</td>\n",
       "      <td>GREECE</td>\n",
       "      <td>Off Thessaly</td>\n",
       "      <td>NaN</td>\n",
       "      <td>Shipwrecked Persian Fleet</td>\n",
       "      <td>males</td>\n",
       "      <td>M</td>\n",
       "      <td>...</td>\n",
       "      <td>unknow</td>\n",
       "      <td>[of, sharks, water, men]</td>\n",
       "      <td>Herodotus tells of sharks attacking men in the...</td>\n",
       "      <td>[unknow]</td>\n",
       "      <td>unknow</td>\n",
       "      <td>NaN</td>\n",
       "      <td>None</td>\n",
       "      <td>[493]</td>\n",
       "      <td>493</td>\n",
       "      <td>B.C.</td>\n",
       "    </tr>\n",
       "    <tr>\n",
       "      <th>6180</th>\n",
       "      <td>0000.0725</td>\n",
       "      <td>Ca. 725 B.C.</td>\n",
       "      <td>0.0</td>\n",
       "      <td>Sea Disaster</td>\n",
       "      <td>ITALY</td>\n",
       "      <td>Tyrrhenian Sea</td>\n",
       "      <td>Krater found during excavations at Lacco Ameno...</td>\n",
       "      <td>Shipwreck</td>\n",
       "      <td>males</td>\n",
       "      <td>M</td>\n",
       "      <td>...</td>\n",
       "      <td>unknow</td>\n",
       "      <td>[by, sharks, a, attacked]</td>\n",
       "      <td>Depicts shipwrecked sailors  attacked by a sha...</td>\n",
       "      <td>[unknow]</td>\n",
       "      <td>unknow</td>\n",
       "      <td>NaN</td>\n",
       "      <td>None</td>\n",
       "      <td>[725]</td>\n",
       "      <td>725</td>\n",
       "      <td>B.C.</td>\n",
       "    </tr>\n",
       "  </tbody>\n",
       "</table>\n",
       "<p>4 rows × 34 columns</p>\n",
       "</div>"
      ],
      "text/plain": [
       "     case_number           date year          type country            area  \\\n",
       "6177   0000.0214   Ca. 214 B.C.  0.0    Unprovoked     NaN      Ionian Sea   \n",
       "6178   0000.0336  Ca. 336.B.C..  0.0    Unprovoked  GREECE         Piraeus   \n",
       "6179   0000.0493       493 B.C.  0.0  Sea Disaster  GREECE    Off Thessaly   \n",
       "6180   0000.0725   Ca. 725 B.C.  0.0  Sea Disaster   ITALY  Tyrrhenian Sea   \n",
       "\n",
       "                                               location  \\\n",
       "6177                                                NaN   \n",
       "6178                          In the haven of Cantharus   \n",
       "6179                                                NaN   \n",
       "6180  Krater found during excavations at Lacco Ameno...   \n",
       "\n",
       "                                               activity  \\\n",
       "6177                              Ascending from a dive   \n",
       "6178  Washing his pig in preparation for a religious...   \n",
       "6179                          Shipwrecked Persian Fleet   \n",
       "6180                                          Shipwreck   \n",
       "\n",
       "                            name sex  ...    act_cat  \\\n",
       "6177     Tharsys, a sponge diver   M  ...  ascending   \n",
       "6178  A candidate for initiation   M  ...    washing   \n",
       "6179                       males   M  ...     unknow   \n",
       "6180                       males   M  ...     unknow   \n",
       "\n",
       "                      injury_kw  \\\n",
       "6177  [fatal, sharks, bit, him]   \n",
       "6178    [fatal, of, bit, lower]   \n",
       "6179   [of, sharks, water, men]   \n",
       "6180  [by, sharks, a, attacked]   \n",
       "\n",
       "                                         injury_details species_kw  \\\n",
       "6177                      FATAL, shark/s bit him in two   [unknow]   \n",
       "6178  FATAL, shark \"bit off all lower parts of him u...   [unknow]   \n",
       "6179  Herodotus tells of sharks attacking men in the...   [unknow]   \n",
       "6180  Depicts shipwrecked sailors  attacked by a sha...   [unknow]   \n",
       "\n",
       "     species_details size size_measure year_aux year_avg ad/bc  \n",
       "6177          unknow  NaN         None    [214]      214  B.C.  \n",
       "6178          unknow  NaN         None    [336]      336  B.C.  \n",
       "6179          unknow  NaN         None    [493]      493  B.C.  \n",
       "6180          unknow  NaN         None    [725]      725  B.C.  \n",
       "\n",
       "[4 rows x 34 columns]"
      ]
     },
     "execution_count": 88,
     "metadata": {},
     "output_type": "execute_result"
    }
   ],
   "source": [
    "df[df['ad/bc']=='B.C.']"
   ]
  },
  {
   "cell_type": "code",
   "execution_count": 89,
   "id": "sophisticated-affairs",
   "metadata": {},
   "outputs": [],
   "source": [
    "years = list(([year for year in df['year_avg'] if year != 'unknow']))"
   ]
  },
  {
   "cell_type": "code",
   "execution_count": 90,
   "id": "super-damage",
   "metadata": {},
   "outputs": [
    {
     "data": {
      "text/plain": [
       "2176"
      ]
     },
     "execution_count": 90,
     "metadata": {},
     "output_type": "execute_result"
    }
   ],
   "source": [
    "max(years)"
   ]
  },
  {
   "cell_type": "code",
   "execution_count": 102,
   "id": "metropolitan-essence",
   "metadata": {},
   "outputs": [
    {
     "data": {
      "text/html": [
       "<div>\n",
       "<style scoped>\n",
       "    .dataframe tbody tr th:only-of-type {\n",
       "        vertical-align: middle;\n",
       "    }\n",
       "\n",
       "    .dataframe tbody tr th {\n",
       "        vertical-align: top;\n",
       "    }\n",
       "\n",
       "    .dataframe thead th {\n",
       "        text-align: right;\n",
       "    }\n",
       "</style>\n",
       "<table border=\"1\" class=\"dataframe\">\n",
       "  <thead>\n",
       "    <tr style=\"text-align: right;\">\n",
       "      <th></th>\n",
       "      <th>case_number</th>\n",
       "      <th>date</th>\n",
       "      <th>year</th>\n",
       "      <th>type</th>\n",
       "      <th>country</th>\n",
       "      <th>area</th>\n",
       "      <th>location</th>\n",
       "      <th>activity</th>\n",
       "      <th>name</th>\n",
       "      <th>sex</th>\n",
       "      <th>...</th>\n",
       "      <th>act_cat</th>\n",
       "      <th>injury_kw</th>\n",
       "      <th>injury_details</th>\n",
       "      <th>species_kw</th>\n",
       "      <th>species_details</th>\n",
       "      <th>size</th>\n",
       "      <th>size_measure</th>\n",
       "      <th>year_aux</th>\n",
       "      <th>year_avg</th>\n",
       "      <th>ad/bc</th>\n",
       "    </tr>\n",
       "  </thead>\n",
       "  <tbody>\n",
       "    <tr>\n",
       "      <th>4078</th>\n",
       "      <td>1959.08.02</td>\n",
       "      <td>21764</td>\n",
       "      <td>1959.0</td>\n",
       "      <td>Invalid</td>\n",
       "      <td>ITALY</td>\n",
       "      <td>Tuscany</td>\n",
       "      <td>Cala del Corvo, Isola del Giglio</td>\n",
       "      <td>Scuba diving</td>\n",
       "      <td>Karl Pollerer &amp; Eric Eisesenid</td>\n",
       "      <td>M</td>\n",
       "      <td>...</td>\n",
       "      <td>unknow</td>\n",
       "      <td>[involvement, probable, unconfirmed, drowing]</td>\n",
       "      <td>Probable drowing. Shark involvement unconfirmed</td>\n",
       "      <td>[not, death, involvement, prior]</td>\n",
       "      <td>shark involvement prior to death was not confi...</td>\n",
       "      <td>NaN</td>\n",
       "      <td>None</td>\n",
       "      <td>[2176]</td>\n",
       "      <td>2176</td>\n",
       "      <td>A.D.</td>\n",
       "    </tr>\n",
       "  </tbody>\n",
       "</table>\n",
       "<p>1 rows × 34 columns</p>\n",
       "</div>"
      ],
      "text/plain": [
       "     case_number   date    year     type country     area  \\\n",
       "4078  1959.08.02  21764  1959.0  Invalid   ITALY  Tuscany   \n",
       "\n",
       "                              location      activity  \\\n",
       "4078  Cala del Corvo, Isola del Giglio  Scuba diving   \n",
       "\n",
       "                                name sex  ... act_cat  \\\n",
       "4078  Karl Pollerer & Eric Eisesenid   M  ...  unknow   \n",
       "\n",
       "                                          injury_kw  \\\n",
       "4078  [involvement, probable, unconfirmed, drowing]   \n",
       "\n",
       "                                       injury_details  \\\n",
       "4078  Probable drowing. Shark involvement unconfirmed   \n",
       "\n",
       "                            species_kw  \\\n",
       "4078  [not, death, involvement, prior]   \n",
       "\n",
       "                                        species_details size size_measure  \\\n",
       "4078  shark involvement prior to death was not confi...  NaN         None   \n",
       "\n",
       "     year_aux year_avg ad/bc  \n",
       "4078   [2176]     2176  A.D.  \n",
       "\n",
       "[1 rows x 34 columns]"
      ]
     },
     "execution_count": 102,
     "metadata": {},
     "output_type": "execute_result"
    }
   ],
   "source": [
    "df[df['year_avg']==2176]"
   ]
  },
  {
   "cell_type": "code",
   "execution_count": null,
   "id": "union-serve",
   "metadata": {},
   "outputs": [],
   "source": [
    "\n",
    "years = df[df['ad/bc'] == 'B.C.'].index"
   ]
  },
  {
   "cell_type": "code",
   "execution_count": null,
   "id": "interim-whale",
   "metadata": {},
   "outputs": [],
   "source": [
    "years = df.loc[years,'year_avg']"
   ]
  },
  {
   "cell_type": "code",
   "execution_count": null,
   "id": "floating-segment",
   "metadata": {},
   "outputs": [],
   "source": [
    "lista = list(df[df['year_avg'].apply(type) == int].index)"
   ]
  },
  {
   "cell_type": "code",
   "execution_count": null,
   "id": "distinct-transfer",
   "metadata": {},
   "outputs": [],
   "source": [
    "df1 = df.loc[lista]"
   ]
  },
  {
   "cell_type": "code",
   "execution_count": null,
   "id": "korean-chamber",
   "metadata": {},
   "outputs": [],
   "source": [
    "(df1['year_avg']>2020).value_counts()"
   ]
  },
  {
   "cell_type": "code",
   "execution_count": 1,
   "id": "cardiovascular-cooper",
   "metadata": {},
   "outputs": [
    {
     "ename": "NameError",
     "evalue": "name 'df' is not defined",
     "output_type": "error",
     "traceback": [
      "\u001b[1;31m---------------------------------------------------------------------------\u001b[0m",
      "\u001b[1;31mNameError\u001b[0m                                 Traceback (most recent call last)",
      "\u001b[1;32m<ipython-input-1-d63bca7c1baa>\u001b[0m in \u001b[0;36m<module>\u001b[1;34m\u001b[0m\n\u001b[1;32m----> 1\u001b[1;33m \u001b[0mdf\u001b[0m\u001b[1;33m.\u001b[0m\u001b[0mloc\u001b[0m\u001b[1;33m[\u001b[0m\u001b[1;36m4078\u001b[0m\u001b[1;33m,\u001b[0m\u001b[1;34m'year_avg'\u001b[0m\u001b[1;33m]\u001b[0m \u001b[1;33m=\u001b[0m \u001b[1;36m1959\u001b[0m\u001b[1;33m\u001b[0m\u001b[1;33m\u001b[0m\u001b[0m\n\u001b[0m",
      "\u001b[1;31mNameError\u001b[0m: name 'df' is not defined"
     ]
    }
   ],
   "source": [
    "df.loc[4078,'year_avg'] = 1959"
   ]
  },
  {
   "cell_type": "code",
   "execution_count": null,
   "id": "vanilla-patrick",
   "metadata": {},
   "outputs": [],
   "source": [
    "path = os.path.expanduser('~/Desktop/SharAttack/')"
   ]
  },
  {
   "cell_type": "code",
   "execution_count": null,
   "id": "vulnerable-greenhouse",
   "metadata": {},
   "outputs": [],
   "source": [
    "df.to_excel(f'{path}db_attack.xlsx')"
   ]
  }
 ],
 "metadata": {
  "kernelspec": {
   "display_name": "Python 3",
   "language": "python",
   "name": "python3"
  },
  "language_info": {
   "codemirror_mode": {
    "name": "ipython",
    "version": 3
   },
   "file_extension": ".py",
   "mimetype": "text/x-python",
   "name": "python",
   "nbconvert_exporter": "python",
   "pygments_lexer": "ipython3",
   "version": "3.8.2"
  }
 },
 "nbformat": 4,
 "nbformat_minor": 5
}
